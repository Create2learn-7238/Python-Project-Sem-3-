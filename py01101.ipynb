{
 "cells": [
  {
   "cell_type": "code",
   "execution_count": 2,
   "metadata": {},
   "outputs": [
    {
     "name": "stdout",
     "output_type": "stream",
     "text": [
      "{'m1': 100, 'm2': 200, 'm3': 300}\n",
      "m1 = 100\n",
      "m2 = 200\n",
      "m3 = 300\n",
      "{'rollno': 10, 'name': 'ARMAN', 'subject': 'Python', 'marks': 88}\n",
      "rollno = 10\n",
      "name = ARMAN\n",
      "subject = Python\n",
      "marks = 88\n"
     ]
    }
   ],
   "source": [
    "def display(** kwargs):\n",
    "    print(kwargs)\n",
    "    for k,v in kwargs.items():\n",
    "        print(k,\"=\",v)\n",
    "        \n",
    "        \n",
    "display(m1=100,m2=200,m3=300)        \n",
    "display(rollno=10,name=\"ARMAN\",subject=\"Python\",marks=88)"
   ]
  },
  {
   "cell_type": "code",
   "execution_count": 10,
   "metadata": {},
   "outputs": [
    {
     "name": "stdout",
     "output_type": "stream",
     "text": [
      "{'m1': 100}\n",
      "m1 = 100\n",
      "{'rollno': 10, 'name': 'ARMAN', 'subject': 'Python', 'marks': 88}\n",
      "rollno = 10\n",
      "name = ARMAN\n",
      "subject = Python\n",
      "marks = 88\n"
     ]
    }
   ],
   "source": [
    "def display(** kwargs):\n",
    "    print(kwargs)\n",
    "        for k,v in kwargs.items():\n",
    "              print(k,\"=\",v)\n",
    "        \n",
    "display(m1=100)        \n",
    "display(rollno=10,name=\"ARMAN\",subject=\"Python\",marks=88)"
   ]
  },
  {
   "cell_type": "code",
   "execution_count": 13,
   "metadata": {},
   "outputs": [
    {
     "name": "stdout",
     "output_type": "stream",
     "text": [
      "This is outer function\n",
      "ThiS is inner function\n"
     ]
    }
   ],
   "source": [
    "def outer():\n",
    "    print(\"This is outer function\")\n",
    "    def inner():\n",
    "        print(\"ThiS is inner function\")\n",
    "    inner()\n",
    "        \n",
    "outer()    "
   ]
  },
  {
   "cell_type": "code",
   "execution_count": 15,
   "metadata": {},
   "outputs": [
    {
     "name": "stdout",
     "output_type": "stream",
     "text": [
      "54\n",
      "45\n"
     ]
    }
   ],
   "source": [
    "def fan1():\n",
    "    a=45\n",
    "    def fan2():\n",
    "        a=54\n",
    "        print(a)\n",
    "    fan2()\n",
    "    print(a)\n",
    "\n",
    "fan1()    "
   ]
  },
  {
   "cell_type": "code",
   "execution_count": 18,
   "metadata": {},
   "outputs": [
    {
     "name": "stdout",
     "output_type": "stream",
     "text": [
      "0\n",
      "1\n",
      "2\n"
     ]
    }
   ],
   "source": [
    "for i in range(5):\n",
    "    if i==3:\n",
    "        break\n",
    "    print(i)\n",
    "else :\n",
    "    print(\"HELLO WORLD\")"
   ]
  },
  {
   "cell_type": "code",
   "execution_count": 24,
   "metadata": {},
   "outputs": [
    {
     "name": "stdout",
     "output_type": "stream",
     "text": [
      "ENTER NUMBER 12\n",
      "HARSHAD NUMBER\n"
     ]
    }
   ],
   "source": [
    "#wap to check the given number is harshad number or not\n",
    "def check() :\n",
    "    n=int(input(\"ENTER NUMBER \"))\n",
    "    sum=0\n",
    "    temp=n\n",
    "    while n!=0 :\n",
    "        sum+=n%10\n",
    "    \n",
    "        n=n//10\n",
    "    \n",
    "    if temp%sum==0 :\n",
    "        print(\"HARSHAD NUMBER\")\n",
    "    else :\n",
    "        print(\"NOT\")\n",
    "        \n",
    "check()        "
   ]
  },
  {
   "cell_type": "code",
   "execution_count": 25,
   "metadata": {},
   "outputs": [
    {
     "name": "stdout",
     "output_type": "stream",
     "text": [
      "ENTER NUMBER :5\n",
      "111115\n",
      "111151\n",
      "111511\n",
      "115111\n",
      "151111\n",
      "511111\n"
     ]
    }
   ],
   "source": [
    "#wap that accept single int number and produceses all possible 6 digit number for which the product of the digits=entered number\n",
    "\n",
    "n=int(input(\"ENTER NUMBER :\"))\n",
    "for i in range(111111,911111):\n",
    "    prod=1\n",
    "    j=i\n",
    "    while j!=0 :\n",
    "            prod*=j%10\n",
    "            j=j//10\n",
    "    if(prod==n):\n",
    "        print(i)\n",
    "        \n",
    "    \n",
    "        \n",
    "        "
   ]
  },
  {
   "cell_type": "code",
   "execution_count": 40,
   "metadata": {},
   "outputs": [
    {
     "name": "stdout",
     "output_type": "stream",
     "text": [
      "ENTER DAY :31\n",
      "ENTER MONTH :12\n",
      "ENTER YEAR :2025\n",
      "if\n",
      "NEXT DATE : 1 - 1 - 2026\n"
     ]
    }
   ],
   "source": [
    "#wap to get next day of a given date\n",
    "day=int(input(\"ENTER DAY :\"))\n",
    "month=int(input(\"ENTER MONTH :\"))\n",
    "year=int(input(\"ENTER YEAR :\"))\n",
    "leap=\"no\"\n",
    "if (year%4 == 0 and year%100!=0) or (year%400==0) :\n",
    "    leap=\"yes\"\n",
    "\n",
    "days31=[1,3,4,7,8,10,12]  \n",
    "if month in days31 :\n",
    "    if day==31 and month==12:\n",
    "        day=1\n",
    "        month=1\n",
    "        year=year+1\n",
    "    elif day==31:\n",
    "        day=1\n",
    "        month=month+1\n",
    "    else :\n",
    "        day+=1\n",
    "    print(\"if\")\n",
    "else:\n",
    "    if day==30 :\n",
    "        if month==12:\n",
    "            day=1\n",
    "            month=1\n",
    "            year+=1\n",
    "        else:\n",
    "            day=1\n",
    "            month+=1\n",
    "    elif day==29 and month==2 :\n",
    "        if  leap==\"yes\":\n",
    "            day=1\n",
    "            month+=1\n",
    "        else :\n",
    "            day=1\n",
    "            month+=1\n",
    "    else:\n",
    "        day+=1\n",
    "    print(\"else\")\n",
    "        \n",
    "print(\"NEXT DATE :\",year,\"-\",month,\"-\",day)\n",
    "        "
   ]
  },
  {
   "cell_type": "code",
   "execution_count": 45,
   "metadata": {},
   "outputs": [
    {
     "name": "stdout",
     "output_type": "stream",
     "text": [
      "ENTER NUMBER7\n",
      "1\n",
      "1\n",
      "1\n",
      "1\n",
      "4\n",
      "7\n",
      "13\n",
      "Nth 13\n"
     ]
    }
   ],
   "source": [
    "#wap to create a sequence where the four member of sequence =1 and each succesive term of \n",
    "#the sequence is equalto the sum of last four find the nth member of the sequence\n",
    "\n",
    "n=int(input(\"ENTER NUMBER\"))\n",
    "n1=1\n",
    "n2=1\n",
    "n2=1\n",
    "n3=1\n",
    "n4=1\n",
    "num=0\n",
    "print(n1)\n",
    "print(n2)\n",
    "print(n3)\n",
    "print(n4)\n",
    "for i in range(n-4):\n",
    "    num=n1+n2+n3+n4\n",
    "    print(num)\n",
    "    n1=n2\n",
    "    n2=n3\n",
    "    n3=n4\n",
    "    n4=num\n",
    "    \n",
    "print(\"Nth\",num)    \n",
    "\n"
   ]
  },
  {
   "cell_type": "code",
   "execution_count": null,
   "metadata": {},
   "outputs": [],
   "source": []
  }
 ],
 "metadata": {
  "kernelspec": {
   "display_name": "Python 3",
   "language": "python",
   "name": "python3"
  },
  "language_info": {
   "codemirror_mode": {
    "name": "ipython",
    "version": 3
   },
   "file_extension": ".py",
   "mimetype": "text/x-python",
   "name": "python",
   "nbconvert_exporter": "python",
   "pygments_lexer": "ipython3",
   "version": "3.8.5"
  }
 },
 "nbformat": 4,
 "nbformat_minor": 4
}
