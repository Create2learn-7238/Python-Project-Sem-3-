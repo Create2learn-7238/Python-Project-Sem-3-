{
 "cells": [
  {
   "cell_type": "code",
   "execution_count": 11,
   "metadata": {},
   "outputs": [
    {
     "name": "stdout",
     "output_type": "stream",
     "text": [
      "Enter a Money: 2111\n",
      "Return\n",
      "4 500 RS\n",
      "0 200 RS\n",
      "1 100 RS\n",
      "0 50 RS\n",
      "0 20 RS\n",
      "1 10 RS\n"
     ]
    }
   ],
   "source": [
    "# change Money\n",
    "# availabe Denomination 10,20,50,100,200,500\n",
    "a=int(input(\"Enter a Money: \"))\n",
    "print(\"Return\")\n",
    "print(a//500,\"500 RS\")\n",
    "print(a%500//200,\"200 RS\")\n",
    "print(a%500%200//100,\"100 RS\")\n",
    "print(a%500%200%100//50,\"50 RS\")\n",
    "print(a%500%200%100%50//20,\"20 RS\")\n",
    "print(a%500%200%100%50%20//10,\"10 RS\")\n",
    "\n",
    "\n",
    "\n",
    "\n",
    "\n",
    "\n"
   ]
  }
 ],
 "metadata": {
  "kernelspec": {
   "display_name": "Python 3",
   "language": "python",
   "name": "python3"
  },
  "language_info": {
   "codemirror_mode": {
    "name": "ipython",
    "version": 3
   },
   "file_extension": ".py",
   "mimetype": "text/x-python",
   "name": "python",
   "nbconvert_exporter": "python",
   "pygments_lexer": "ipython3",
   "version": "3.8.5"
  }
 },
 "nbformat": 4,
 "nbformat_minor": 4
}
