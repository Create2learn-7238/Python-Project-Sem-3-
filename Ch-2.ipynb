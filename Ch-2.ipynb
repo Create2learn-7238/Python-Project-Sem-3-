{
 "cells": [
  {
   "cell_type": "markdown",
   "metadata": {},
   "source": [
    "# unit-2 Conditional excecution and iteration"
   ]
  },
  {
   "cell_type": "markdown",
   "metadata": {},
   "source": [
    "## 1) Simple if \n",
    "* if condition :\n",
    "* ____ Statement\n",
    "* eg."
   ]
  },
  {
   "cell_type": "code",
   "execution_count": 5,
   "metadata": {},
   "outputs": [
    {
     "name": "stdout",
     "output_type": "stream",
     "text": [
      "Enter Your Name - Dixit\n",
      "Hello Dixit\n",
      "How r U ???\n"
     ]
    }
   ],
   "source": [
    "name=input(\"Enter Your Name - \")\n",
    "if name==\"Dixit\" :\n",
    "    print(\"Hello Dixit\")\n",
    "print(\"How r U ???\")"
   ]
  },
  {
   "cell_type": "markdown",
   "metadata": {},
   "source": [
    "## 2) if-else\n",
    "* if condition :\n",
    "* ____ Action-1\n",
    "* else :\n",
    "* ____Action-2\n",
    "* eg"
   ]
  },
  {
   "cell_type": "code",
   "execution_count": 8,
   "metadata": {},
   "outputs": [
    {
     "name": "stdout",
     "output_type": "stream",
     "text": [
      "Enter Your Name - Patel\n",
      "Hey Who r U ???\n"
     ]
    }
   ],
   "source": [
    "name=input(\"Enter Your Name - \")\n",
    "if name==\"Dixit\" :\n",
    "    print(\"Hello Dixit\")\n",
    "    print(\"How r U ???\")\n",
    "else :\n",
    "    print(\"Hey Who r U ???\")"
   ]
  },
  {
   "cell_type": "markdown",
   "metadata": {},
   "source": [
    "## 3) if-elif-else\n",
    "* if  condition :\n",
    "* ____ Action-1\n",
    "* elif condition :\n",
    "* ____ Action-2\n",
    "* elif condition :\n",
    "* ____ Action-3\n",
    "* else :\n",
    "* ____ Default Action\n",
    "* eg"
   ]
  },
  {
   "cell_type": "code",
   "execution_count": 17,
   "metadata": {},
   "outputs": [
    {
     "name": "stdout",
     "output_type": "stream",
     "text": [
      "Enter a = 22\n",
      "Enter b = 72\n",
      "Enter c = 38\n",
      "Biggest Number :  72\n"
     ]
    }
   ],
   "source": [
    "a=int(input(\"Enter a = \"))\n",
    "b=int(input(\"Enter b = \"))\n",
    "c=int(input(\"Enter c = \"))\n",
    "if a>b and a>c :\n",
    "    print(\"Biggest Number : \",a)\n",
    "elif b>c:\n",
    "    print(\"Biggest Number : \",b)\n",
    "else :\n",
    "    print(\"Biggest Number : \",c)"
   ]
  },
  {
   "cell_type": "markdown",
   "metadata": {},
   "source": [
    "## 4) Nested if \n",
    "* if condition :\n",
    "* ____ Action-1\n",
    "* ____ if condition :\n",
    "* ________ Action-2 \n",
    "* ____ else : \n",
    "* ________ default"
   ]
  },
  {
   "cell_type": "code",
   "execution_count": 18,
   "metadata": {},
   "outputs": [
    {
     "name": "stdout",
     "output_type": "stream",
     "text": [
      "Above 10\n",
      "Not Above 20\n"
     ]
    }
   ],
   "source": [
    "x=15\n",
    "if x>10 :\n",
    "    print(\"Above 10\")\n",
    "    if x>20 :\n",
    "        print(\"Also Above 20\")\n",
    "    else :\n",
    "        print(\"Not Above 20\")"
   ]
  },
  {
   "cell_type": "markdown",
   "metadata": {},
   "source": [
    "## loop\n",
    "1) for\n",
    "2) while\n",
    "\n",
    "* 1) for Syantax\n",
    "* for x in sequence :\n",
    "* _____ body\n",
    "* eg"
   ]
  },
  {
   "cell_type": "code",
   "execution_count": 22,
   "metadata": {},
   "outputs": [
    {
     "name": "stdout",
     "output_type": "stream",
     "text": [
      "11\n",
      "\n",
      "D\n",
      "i\n",
      "x\n",
      "i\n",
      "t\n",
      " \n",
      "P\n",
      "a\n",
      "t\n",
      "e\n",
      "l\n"
     ]
    }
   ],
   "source": [
    "s=\"Dixit Patel\"\n",
    "print(len(s))\n",
    "print()\n",
    "for i in s :\n",
    "    print(i)"
   ]
  },
  {
   "cell_type": "code",
   "execution_count": 30,
   "metadata": {},
   "outputs": [
    {
     "name": "stdout",
     "output_type": "stream",
     "text": [
      "1\n",
      "2\n",
      "3\n",
      "4\n",
      "5\n",
      "6\n",
      "7\n"
     ]
    }
   ],
   "source": [
    "l=[1,2,3,4,5,6,7]\n",
    "for i in l :\n",
    "    print(i)"
   ]
  },
  {
   "cell_type": "code",
   "execution_count": 31,
   "metadata": {},
   "outputs": [
    {
     "name": "stdout",
     "output_type": "stream",
     "text": [
      "1\n",
      "2\n",
      "3\n",
      "4\n",
      "5\n",
      "6\n",
      "7\n"
     ]
    }
   ],
   "source": [
    "for i in range(len(l)) :\n",
    "    print(l[i])"
   ]
  },
  {
   "cell_type": "markdown",
   "metadata": {},
   "source": [
    "2) While Loop Syntax\n",
    "* While Conditiom\n",
    "* ____ body\n",
    "* eg"
   ]
  },
  {
   "cell_type": "code",
   "execution_count": 32,
   "metadata": {},
   "outputs": [
    {
     "name": "stdout",
     "output_type": "stream",
     "text": [
      "0\n",
      "1\n",
      "2\n",
      "3\n",
      "4\n"
     ]
    }
   ],
   "source": [
    "i=0\n",
    "while i<5:\n",
    "    print(i)\n",
    "    i+=1"
   ]
  },
  {
   "cell_type": "code",
   "execution_count": 35,
   "metadata": {},
   "outputs": [
    {
     "name": "stdout",
     "output_type": "stream",
     "text": [
      "Enter 38 Plz : 1\n",
      "Enter 38 Plz : 2\n",
      "Enter 38 Plz : 3\n",
      "Enter 38 Plz : 4\n",
      "Enter 38 Plz : 5\n",
      "Enter 38 Plz : 6\n",
      "Enter 38 Plz : 3\n",
      "Enter 38 Plz : 38\n",
      "Confirmation\n"
     ]
    }
   ],
   "source": [
    "a=0\n",
    "while a!=38 :\n",
    "    a=int(input(\"Enter 38 Plz : \"))\n",
    "print(\"Confirmation\")"
   ]
  },
  {
   "cell_type": "markdown",
   "metadata": {},
   "source": [
    "### Nested Loop"
   ]
  },
  {
   "cell_type": "code",
   "execution_count": 37,
   "metadata": {},
   "outputs": [
    {
     "name": "stdout",
     "output_type": "stream",
     "text": [
      "0 0\n",
      "0 1\n",
      "0 2\n",
      "1 0\n",
      "1 1\n",
      "1 2\n",
      "2 0\n",
      "2 1\n",
      "2 2\n"
     ]
    }
   ],
   "source": [
    "for i in range(3):\n",
    "    for j in range(3):\n",
    "        print(i,j)"
   ]
  },
  {
   "cell_type": "code",
   "execution_count": null,
   "metadata": {},
   "outputs": [],
   "source": [
    "* Break Satement"
   ]
  },
  {
   "cell_type": "code",
   "execution_count": 41,
   "metadata": {},
   "outputs": [
    {
     "name": "stdout",
     "output_type": "stream",
     "text": [
      "0\n",
      "1\n",
      "2\n",
      "3\n",
      "4\n",
      "5\n",
      "6\n",
      "Stop\n"
     ]
    }
   ],
   "source": [
    "for i in range(10):\n",
    "    if i==7 :\n",
    "        print('Stop')\n",
    "        break\n",
    "    print(i)"
   ]
  },
  {
   "cell_type": "code",
   "execution_count": null,
   "metadata": {},
   "outputs": [],
   "source": [
    "* Contiune Statement"
   ]
  },
  {
   "cell_type": "code",
   "execution_count": 42,
   "metadata": {},
   "outputs": [
    {
     "name": "stdout",
     "output_type": "stream",
     "text": [
      "1\n",
      "3\n",
      "5\n",
      "7\n",
      "9\n"
     ]
    }
   ],
   "source": [
    "for i in range (10):\n",
    "    if i%2==0 :\n",
    "        continue\n",
    "    print(i)"
   ]
  },
  {
   "cell_type": "code",
   "execution_count": 55,
   "metadata": {},
   "outputs": [
    {
     "name": "stdout",
     "output_type": "stream",
     "text": [
      "Enter charachter ~> A\n",
      "Vowel\n"
     ]
    }
   ],
   "source": [
    "#WAP to check the given character is vowel or consonent\n",
    "a=input(\"Enter charachter ~> \")\n",
    "if a in 'aeiouAEIOU':\n",
    "    print(\"Vowel\")\n",
    "else :\n",
    "    print(\"Consonent\")"
   ]
  },
  {
   "cell_type": "code",
   "execution_count": 71,
   "metadata": {},
   "outputs": [
    {
     "name": "stdout",
     "output_type": "stream",
     "text": [
      "Enter Num 1 ~> 5\n",
      "Enter Num 2 ~> 3\n",
      "Enter Sign ~> **\n",
      "125\n"
     ]
    }
   ],
   "source": [
    "#Calculator\n",
    "a=int(input(\"Enter Num 1 ~> \"))\n",
    "b=int(input(\"Enter Num 2 ~> \"))\n",
    "c=input(\"Enter Sign ~> \")\n",
    "if c=='+':\n",
    "    print(a+b)\n",
    "elif c=='-' :\n",
    "    print(a-b)\n",
    "elif c=='*' :\n",
    "    print(a*b)\n",
    "elif c=='/' :\n",
    "    print(a/b)\n",
    "elif c=='//' :\n",
    "    print(a//b)\n",
    "elif c=='%' :\n",
    "    print(a%b)\n",
    "elif c=='**' :\n",
    "    print(a**b)\n",
    "else :\n",
    "    print(\"Invalid\")"
   ]
  },
  {
   "cell_type": "code",
   "execution_count": 4,
   "metadata": {},
   "outputs": [
    {
     "name": "stdout",
     "output_type": "stream",
     "text": [
      "Enter Units:  350\n",
      "Total  2000\n"
     ]
    }
   ],
   "source": [
    "u=int(input(\"Enter Units:  \"))\n",
    "if u>100 and u<=200:\n",
    "    print(\"Total \",(u-100)*5)\n",
    "elif u>200 :\n",
    "        print(\"Total \",((u-200)*10)+(100)*5)\n",
    "elif u<100 :\n",
    "    print(\"free\") "
   ]
  },
  {
   "cell_type": "code",
   "execution_count": 12,
   "metadata": {},
   "outputs": [
    {
     "name": "stdout",
     "output_type": "stream",
     "text": [
      "Not A Leap\n"
     ]
    }
   ],
   "source": [
    "#WAP to check given year is leap year or not\n",
    "year=\n",
    "if ((year%4==0 and year%100!=0) or (year%400==0)):\n",
    "    print(\"Leap\")\n",
    "else :\n",
    "    print(\"Not A Leap\")\n",
    "    "
   ]
  }
 ],
 "metadata": {
  "kernelspec": {
   "display_name": "Python 3",
   "language": "python",
   "name": "python3"
  },
  "language_info": {
   "codemirror_mode": {
    "name": "ipython",
    "version": 3
   },
   "file_extension": ".py",
   "mimetype": "text/x-python",
   "name": "python",
   "nbconvert_exporter": "python",
   "pygments_lexer": "ipython3",
   "version": "3.8.5"
  }
 },
 "nbformat": 4,
 "nbformat_minor": 4
}
