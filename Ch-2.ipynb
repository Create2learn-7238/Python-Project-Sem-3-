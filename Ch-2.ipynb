{
 "cells": [
  {
   "cell_type": "markdown",
   "metadata": {},
   "source": [
    "# unit-2 Conditional excecution and iteration"
   ]
  },
  {
   "cell_type": "markdown",
   "metadata": {},
   "source": [
    "## 1) Simple if \n",
    "* if condition :\n",
    "* ____ Statement\n",
    "* eg."
   ]
  },
  {
   "cell_type": "code",
   "execution_count": 5,
   "metadata": {},
   "outputs": [
    {
     "name": "stdout",
     "output_type": "stream",
     "text": [
      "Enter Your Name - Dixit\n",
      "Hello Dixit\n",
      "How r U ???\n"
     ]
    }
   ],
   "source": [
    "name=input(\"Enter Your Name - \")\n",
    "if name==\"Dixit\" :\n",
    "    print(\"Hello Dixit\")\n",
    "print(\"How r U ???\")"
   ]
  },
  {
   "cell_type": "markdown",
   "metadata": {},
   "source": [
    "## 2) if-else\n",
    "* if condition :\n",
    "* ____ Action-1\n",
    "* else :\n",
    "* ____Action-2\n",
    "* eg"
   ]
  },
  {
   "cell_type": "code",
   "execution_count": 8,
   "metadata": {},
   "outputs": [
    {
     "name": "stdout",
     "output_type": "stream",
     "text": [
      "Enter Your Name - Patel\n",
      "Hey Who r U ???\n"
     ]
    }
   ],
   "source": [
    "name=input(\"Enter Your Name - \")\n",
    "if name==\"Dixit\" :\n",
    "    print(\"Hello Dixit\")\n",
    "    print(\"How r U ???\")\n",
    "else :\n",
    "    print(\"Hey Who r U ???\")"
   ]
  },
  {
   "cell_type": "markdown",
   "metadata": {},
   "source": [
    "## 3) if-elif-else\n",
    "* if  condition :\n",
    "* ____ Action-1\n",
    "* elif condition :\n",
    "* ____ Action-2\n",
    "* elif condition :\n",
    "* ____ Action-3\n",
    "* else :\n",
    "* ____ Default Action\n",
    "* eg"
   ]
  },
  {
   "cell_type": "code",
   "execution_count": 17,
   "metadata": {},
   "outputs": [
    {
     "name": "stdout",
     "output_type": "stream",
     "text": [
      "Enter a = 22\n",
      "Enter b = 72\n",
      "Enter c = 38\n",
      "Biggest Number :  72\n"
     ]
    }
   ],
   "source": [
    "a=int(input(\"Enter a = \"))\n",
    "b=int(input(\"Enter b = \"))\n",
    "c=int(input(\"Enter c = \"))\n",
    "if a>b and a>c :\n",
    "    print(\"Biggest Number : \",a)\n",
    "elif b>c:\n",
    "    print(\"Biggest Number : \",b)\n",
    "else :\n",
    "    print(\"Biggest Number : \",c)"
   ]
  },
  {
   "cell_type": "markdown",
   "metadata": {},
   "source": [
    "## 4) Nested if \n",
    "* if condition :\n",
    "* ____ Action-1\n",
    "* ____ if condition :\n",
    "* ________ Action-2 \n",
    "* ____ else : \n",
    "* ________ default"
   ]
  },
  {
   "cell_type": "code",
   "execution_count": 18,
   "metadata": {},
   "outputs": [
    {
     "name": "stdout",
     "output_type": "stream",
     "text": [
      "Above 10\n",
      "Not Above 20\n"
     ]
    }
   ],
   "source": [
    "x=15\n",
    "if x>10 :\n",
    "    print(\"Above 10\")\n",
    "    if x>20 :\n",
    "        print(\"Also Above 20\")\n",
    "    else :\n",
    "        print(\"Not Above 20\")"
   ]
  },
  {
   "cell_type": "markdown",
   "metadata": {},
   "source": [
    "## loop\n",
    "1) for\n",
    "2) while\n",
    "\n",
    "* 1) for Syantax\n",
    "* for x in sequence :\n",
    "* _____ body\n",
    "* eg"
   ]
  },
  {
   "cell_type": "code",
   "execution_count": 22,
   "metadata": {},
   "outputs": [
    {
     "name": "stdout",
     "output_type": "stream",
     "text": [
      "11\n",
      "\n",
      "D\n",
      "i\n",
      "x\n",
      "i\n",
      "t\n",
      " \n",
      "P\n",
      "a\n",
      "t\n",
      "e\n",
      "l\n"
     ]
    }
   ],
   "source": [
    "s=\"Dixit Patel\"\n",
    "print(len(s))\n",
    "print()\n",
    "for i in s :\n",
    "    print(i)"
   ]
  },
  {
   "cell_type": "code",
   "execution_count": 30,
   "metadata": {},
   "outputs": [
    {
     "name": "stdout",
     "output_type": "stream",
     "text": [
      "1\n",
      "2\n",
      "3\n",
      "4\n",
      "5\n",
      "6\n",
      "7\n"
     ]
    }
   ],
   "source": [
    "l=[1,2,3,4,5,6,7]\n",
    "for i in l :\n",
    "    print(i)"
   ]
  },
  {
   "cell_type": "code",
   "execution_count": null,
   "metadata": {},
   "outputs": [],
   "source": [
    "for i in range(len(l)) :\n",
    "    print(l[i])"
   ]
  },
  {
   "cell_type": "markdown",
   "metadata": {},
   "source": [
    "2) While Loop Syntax\n",
    "* While Conditiom\n",
    "* ____ body\n",
    "* eg"
   ]
  },
  {
   "cell_type": "code",
   "execution_count": 32,
   "metadata": {},
   "outputs": [
    {
     "name": "stdout",
     "output_type": "stream",
     "text": [
      "0\n",
      "1\n",
      "2\n",
      "3\n",
      "4\n"
     ]
    }
   ],
   "source": [
    "i=0\n",
    "while i<5:\n",
    "    print(i)\n",
    "    i+=1"
   ]
  },
  {
   "cell_type": "code",
   "execution_count": 35,
   "metadata": {},
   "outputs": [
    {
     "name": "stdout",
     "output_type": "stream",
     "text": [
      "Enter 38 Plz : 1\n",
      "Enter 38 Plz : 2\n",
      "Enter 38 Plz : 3\n",
      "Enter 38 Plz : 4\n",
      "Enter 38 Plz : 5\n",
      "Enter 38 Plz : 6\n",
      "Enter 38 Plz : 3\n",
      "Enter 38 Plz : 38\n",
      "Confirmation\n"
     ]
    }
   ],
   "source": [
    "a=0\n",
    "while a!=38 :\n",
    "    a=int(input(\"Enter 38 Plz : \"))\n",
    "print(\"Confirmation\")"
   ]
  },
  {
   "cell_type": "markdown",
   "metadata": {},
   "source": [
    "### Nested Loop"
   ]
  },
  {
   "cell_type": "code",
   "execution_count": 37,
   "metadata": {},
   "outputs": [
    {
     "name": "stdout",
     "output_type": "stream",
     "text": [
      "0 0\n",
      "0 1\n",
      "0 2\n",
      "1 0\n",
      "1 1\n",
      "1 2\n",
      "2 0\n",
      "2 1\n",
      "2 2\n"
     ]
    }
   ],
   "source": [
    "for i in range(3):\n",
    "    for j in range(3):\n",
    "        print(i,j)"
   ]
  },
  {
   "cell_type": "code",
   "execution_count": null,
   "metadata": {},
   "outputs": [],
   "source": [
    "* Break Satement"
   ]
  },
  {
   "cell_type": "code",
   "execution_count": 6,
   "metadata": {},
   "outputs": [
    {
     "name": "stdout",
     "output_type": "stream",
     "text": [
      "0\n",
      "1\n",
      "2\n",
      "3\n",
      "4\n",
      "5\n",
      "6\n",
      "Stop\n",
      "7\n",
      "8\n",
      "9\n"
     ]
    }
   ],
   "source": [
    "for i in range(10):\n",
    "    if i==7 :\n",
    "        print('Stop')\n",
    "        break\n",
    "    print(i)"
   ]
  },
  {
   "cell_type": "markdown",
   "metadata": {},
   "source": [
    "* Contiune Statement"
   ]
  },
  {
   "cell_type": "code",
   "execution_count": 42,
   "metadata": {},
   "outputs": [
    {
     "name": "stdout",
     "output_type": "stream",
     "text": [
      "1\n",
      "3\n",
      "5\n",
      "7\n",
      "9\n"
     ]
    }
   ],
   "source": [
    "for i in range (10):\n",
    "    if i%2==0 :\n",
    "        continue\n",
    "    print(i)"
   ]
  },
  {
   "cell_type": "code",
   "execution_count": 55,
   "metadata": {},
   "outputs": [
    {
     "name": "stdout",
     "output_type": "stream",
     "text": [
      "Enter charachter ~> A\n",
      "Vowel\n"
     ]
    }
   ],
   "source": [
    "#WAP to check the given character is vowel or consonent\n",
    "a=input(\"Enter charachter ~> \")\n",
    "if a in 'aeiouAEIOU':\n",
    "    print(\"Vowel\")\n",
    "else :\n",
    "    print(\"Consonent\")"
   ]
  },
  {
   "cell_type": "code",
   "execution_count": 71,
   "metadata": {},
   "outputs": [
    {
     "name": "stdout",
     "output_type": "stream",
     "text": [
      "Enter Num 1 ~> 5\n",
      "Enter Num 2 ~> 3\n",
      "Enter Sign ~> **\n",
      "125\n"
     ]
    }
   ],
   "source": [
    "#Calculator\n",
    "a=int(input(\"Enter Num 1 ~> \"))\n",
    "b=int(input(\"Enter Num 2 ~> \"))\n",
    "c=input(\"Enter Sign ~> \")\n",
    "if c=='+':\n",
    "    print(a+b)\n",
    "elif c=='-' :\n",
    "    print(a-b)\n",
    "elif c=='*' :\n",
    "    print(a*b)\n",
    "elif c=='/' :\n",
    "    print(a/b)\n",
    "elif c=='//' :\n",
    "    print(a//b)\n",
    "elif c=='%' :\n",
    "    print(a%b)\n",
    "elif c=='**' :\n",
    "    print(a**b)\n",
    "else :\n",
    "    print(\"Invalid\")"
   ]
  },
  {
   "cell_type": "code",
   "execution_count": 4,
   "metadata": {},
   "outputs": [
    {
     "name": "stdout",
     "output_type": "stream",
     "text": [
      "Enter Units:  350\n",
      "Total  2000\n"
     ]
    }
   ],
   "source": [
    "u=int(input(\"Enter Units:  \"))\n",
    "if u>100 and u<=200:\n",
    "    print(\"Total \",(u-100)*5)\n",
    "elif u>200 :\n",
    "        print(\"Total \",((u-200)*10)+(100)*5)\n",
    "elif u<100 :\n",
    "    print(\"free\") "
   ]
  },
  {
   "cell_type": "code",
   "execution_count": 12,
   "metadata": {},
   "outputs": [
    {
     "name": "stdout",
     "output_type": "stream",
     "text": [
      "Not A Leap\n"
     ]
    }
   ],
   "source": [
    "#WAP to check given year is leap year or not\n",
    "year=\n",
    "if ((year%4==0 and year%100!=0) or (year%400==0)):\n",
    "    print(\"Leap\")\n",
    "else :\n",
    "    print(\"Not A Leap\")\n",
    "    "
   ]
  },
  {
   "cell_type": "code",
   "execution_count": null,
   "metadata": {},
   "outputs": [],
   "source": [
    "a=int(input(\"Enter Num 1 ~> \"))\n",
    "a1=a%10\n",
    "a2=(a/10)%10\n",
    "a3=(a/10)/10\n",
    "if (a3/10)!=0 :\n",
    "    print(\"Plz enter 3 Digit Number\")\n",
    "else :\n",
    "    print(\"Middle Number\",a2\n",
    "          # not completed"
   ]
  },
  {
   "cell_type": "code",
   "execution_count": 6,
   "metadata": {},
   "outputs": [
    {
     "name": "stdout",
     "output_type": "stream",
     "text": [
      "Enter age ~> 25\n",
      "Enter gender ~> d\n",
      "Enter no of days ~> 2\n",
      " Error : INVALID Gender !!! \n"
     ]
    }
   ],
   "source": [
    "# WAP to accept age gender and number of days and display the wages according to the given table \n",
    "a=int(input(\"Enter age ~> \"))\n",
    "b=input(\"Enter gender ~> \")\n",
    "c=int(input(\"Enter no of days ~> \"))\n",
    "\n",
    "if b not in 'mfMF' :\n",
    "    print(\"Error : INVALID Gender !!! \")\n",
    "    \n",
    "if (a>=18 and a<30) :\n",
    "    if b in 'Mm':\n",
    "        print(\"Toatal Wages : \",c*700)\n",
    "    if b in 'fF' :\n",
    "        print(\"Toatal Wages : \",c*750)\n",
    "\n",
    "if (a>=30 and a<=40) :\n",
    "    if b in 'Mm':\n",
    "        print(\"Toatal Wages : \",c*800)\n",
    "    if b in 'fF' :\n",
    "        print(\"Toatal Wages : \",c*850)\n",
    "        \n",
    "if a>40 :\n",
    "    print(\"Its Time To Retire\")\n",
    "if a<18 :\n",
    "    print(\"u r not Allow to Work\")"
   ]
  },
  {
   "cell_type": "code",
   "execution_count": 14,
   "metadata": {},
   "outputs": [
    {
     "name": "stdout",
     "output_type": "stream",
     "text": [
      "Enter S1 ~> 5\n",
      "Enter S2 ~> 5\n",
      "Enter S3 ~> 6\n",
      "Isoscele\n"
     ]
    }
   ],
   "source": [
    "# WAP to accept 3 sides of a triangle and check Weather it is equilateral , isosceles or scalen trinangle\n",
    "a=int(input(\"Enter S1 ~> \"))\n",
    "b=int(input(\"Enter S2 ~> \"))\n",
    "c=int(input(\"Enter S3 ~> \"))\n",
    "\n",
    "if a==b==c :\n",
    "    print(\"Equvilateral\")\n",
    "elif a!=b and b!=c and a!=c :\n",
    "    print(\"Scalene\")\n",
    "elif a==b!=c or a==c!=b or b==c!=a :\n",
    "    print(\"Isoscele\")"
   ]
  },
  {
   "cell_type": "code",
   "execution_count": 11,
   "metadata": {},
   "outputs": [
    {
     "name": "stdout",
     "output_type": "stream",
     "text": [
      "Enter Num ~> 10\n",
      "adding all digit :  55\n"
     ]
    }
   ],
   "source": [
    "# WAP to add all digit upto number\n",
    "a=int(input(\"Enter Num ~> \"))\n",
    "s=0\n",
    "for i in range(a+1):\n",
    "    s=s+i\n",
    "print('adding all digit : ', s)"
   ]
  },
  {
   "cell_type": "code",
   "execution_count": 13,
   "metadata": {},
   "outputs": [
    {
     "name": "stdout",
     "output_type": "stream",
     "text": [
      "Enter Num ~> 4\n",
      "adding all digit :  10\n",
      "Avg :  2.5\n"
     ]
    }
   ],
   "source": [
    "# find avg of above\n",
    "a=int(input(\"Enter Num ~> \"))\n",
    "s=0\n",
    "for i in range(a+1):\n",
    "    s=s+i\n",
    "print('adding all digit : ', s)\n",
    "print('Avg : ', (s/a))"
   ]
  },
  {
   "cell_type": "code",
   "execution_count": 34,
   "metadata": {},
   "outputs": [
    {
     "name": "stdout",
     "output_type": "stream",
     "text": [
      "Enter Num ~> 23679\n",
      "Adding digits :  27\n"
     ]
    }
   ],
   "source": [
    "# 1) WAP to Add digit\n",
    "a=int(input(\"Enter Num ~> \"))\n",
    "s=0\n",
    "while a>0 :\n",
    "    s=s+(a%10)\n",
    "    a=a//10\n",
    "print(\"Adding digits : \", s)"
   ]
  },
  {
   "cell_type": "code",
   "execution_count": 24,
   "metadata": {},
   "outputs": [
    {
     "name": "stdout",
     "output_type": "stream",
     "text": [
      "Enter Num ~> 123\n",
      "Adding digits :  6\n"
     ]
    }
   ],
   "source": [
    "# 2) WAP to Add digit\n",
    "a=int(input(\"Enter Num ~> \"))\n",
    "a=str(a)\n",
    "s=0\n",
    "for i in a:\n",
    "    s=s+int(i)\n",
    "print(\"Adding digits : \", s)"
   ]
  },
  {
   "cell_type": "code",
   "execution_count": 41,
   "metadata": {},
   "outputs": [
    {
     "name": "stdout",
     "output_type": "stream",
     "text": [
      "Enter Num ~> 123\n",
      "Adding digits :  321\n"
     ]
    }
   ],
   "source": [
    "# rev Number\n",
    "a=int(input(\"Enter Num ~> \"))\n",
    "s=0\n",
    "r=0\n",
    "while a>0 :\n",
    "    s=s+(a%10)\n",
    "    r=r*10 + (a%10)\n",
    "    a=a//10\n",
    "print(\"Adding digits : \", r)"
   ]
  },
  {
   "cell_type": "code",
   "execution_count": 44,
   "metadata": {},
   "outputs": [
    {
     "name": "stdout",
     "output_type": "stream",
     "text": [
      "Enter Num ~> 121\n",
      "Armstrong\n"
     ]
    }
   ],
   "source": [
    "# check palidrome\n",
    "a=int(input(\"Enter Num ~> \"))\n",
    "temp=a\n",
    "s=0\n",
    "r=0\n",
    "while a>0 :\n",
    "    s=s+(a%10)\n",
    "    r=r*10 + (a%10)\n",
    "    a=a//10\n",
    "if temp==r :\n",
    "    print('Palidrome')\n",
    "else :\n",
    "    print('Not A Palidrome')"
   ]
  },
  {
   "cell_type": "code",
   "execution_count": 47,
   "metadata": {},
   "outputs": [
    {
     "name": "stdout",
     "output_type": "stream",
     "text": [
      "Enter Num ~> 153\n",
      "Armstrong\n"
     ]
    }
   ],
   "source": [
    "# check armstrong\n",
    "a=int(input(\"Enter Num ~> \"))\n",
    "temp=a\n",
    "power=len(str(a))\n",
    "sum=0\n",
    "while a!=0 :\n",
    "    digit=a%10\n",
    "    sum=sum+(digit**power)\n",
    "    a=a//10\n",
    "if temp==sum :\n",
    "    print('Armstrong')\n",
    "else :\n",
    "    print('Not A Armstrong')"
   ]
  },
  {
   "cell_type": "code",
   "execution_count": 61,
   "metadata": {},
   "outputs": [
    {
     "name": "stdout",
     "output_type": "stream",
     "text": [
      "Enter Num ~> 7\n",
      "Prime\n"
     ]
    }
   ],
   "source": [
    "# check prime or not \n",
    "a=int(input(\"Enter Num ~> \"))\n",
    "flag=0\n",
    "for i in range(2,a):\n",
    "    if a%i==0 :\n",
    "        flag=1\n",
    "        print('Not Prime')\n",
    "        break\n",
    "    \n",
    "if flag==0 :\n",
    "    print('Prime')"
   ]
  },
  {
   "cell_type": "code",
   "execution_count": 81,
   "metadata": {},
   "outputs": [
    {
     "name": "stdout",
     "output_type": "stream",
     "text": [
      "Enter Range ~> 100\n",
      "Prime : 1      Count : 1\n",
      "Prime : 2      Count : 2\n",
      "Prime : 3      Count : 3\n",
      "Prime : 5      Count : 4\n",
      "Prime : 7      Count : 5\n",
      "Prime : 11      Count : 6\n",
      "Prime : 13      Count : 7\n",
      "Prime : 17      Count : 8\n",
      "Prime : 19      Count : 9\n",
      "Prime : 23      Count : 10\n",
      "Prime : 29      Count : 11\n",
      "Prime : 31      Count : 12\n",
      "Prime : 37      Count : 13\n",
      "Prime : 41      Count : 14\n",
      "Prime : 43      Count : 15\n",
      "Prime : 47      Count : 16\n",
      "Prime : 53      Count : 17\n",
      "Prime : 59      Count : 18\n",
      "Prime : 61      Count : 19\n",
      "Prime : 67      Count : 20\n",
      "Prime : 71      Count : 21\n",
      "Prime : 73      Count : 22\n",
      "Prime : 79      Count : 23\n",
      "Prime : 83      Count : 24\n",
      "Prime : 89      Count : 25\n",
      "Prime : 97      Count : 26\n"
     ]
    }
   ],
   "source": [
    "# check all prime upto 100\n",
    "# check prime or not \n",
    "a=int(input(\"Enter Range ~> \"))\n",
    "count=1\n",
    "for p in range(1,a+1):\n",
    "    flag=0\n",
    "    for i in range(2,p):\n",
    "        if p%i==0 :\n",
    "            flag=1\n",
    "            break\n",
    "            \n",
    "    if flag==0 :\n",
    "        print('Prime :',p,\"     Count :\",count)\n",
    "        count=count+1\n"
   ]
  },
  {
   "cell_type": "markdown",
   "metadata": {},
   "source": [
    "## Happy number \n",
    "* eg 13 ==> 1 square + 3 Square ==> 1+9=10 ==> 1 square + 0 square ==> 1+0=1 end with 1 happy \n",
    "* if 4 come in between then infinite loop "
   ]
  },
  {
   "cell_type": "code",
   "execution_count": 3,
   "metadata": {},
   "outputs": [
    {
     "name": "stdout",
     "output_type": "stream",
     "text": [
      "Enter Number ~> 13\n",
      "13 is Happy number\n"
     ]
    }
   ],
   "source": [
    "n=int(input(\"Enter Number ~> \"))\n",
    "temp=n\n",
    "while n!=1 and n!=4 :\n",
    "    sum=0\n",
    "    s=str(n)\n",
    "    for i in s:\n",
    "            sum+=int(i)**2 \n",
    "    n=sum\n",
    "if n==1 :\n",
    "    print(temp,'is Happy number')\n",
    "else :\n",
    "    print(temp,'is no Happy number')"
   ]
  },
  {
   "cell_type": "code",
   "execution_count": null,
   "metadata": {},
   "outputs": [
    {
     "name": "stdout",
     "output_type": "stream",
     "text": [
      "Enter Number ~> 111\n"
     ]
    }
   ],
   "source": [
    "n=int(input(\"Enter Number ~> \"))\n",
    "for i in range(n) :\n",
    "    temp=i\n",
    "    while i!=1 and i!=4 :\n",
    "        sum=0\n",
    "        s=str(i)\n",
    "        for r in s:\n",
    "            sum+=int(r)**2\n",
    "        i=sum\n",
    "    if i==1 :\n",
    "        print(temp,'is Happy number')\n",
    "    else :\n",
    "        print(temp,'is no Happy number')\n",
    "# not running "
   ]
  },
  {
   "cell_type": "code",
   "execution_count": 16,
   "metadata": {},
   "outputs": [
    {
     "name": "stdout",
     "output_type": "stream",
     "text": [
      "Enter Grade ~> a\n",
      "Enter Class Number ~>1\n",
      "Basic Pay : 60000\n",
      "Other Allowance : 8000\n",
      "HRA : 18000.0\n",
      "DA : 30000.0\n",
      "TA : 900\n",
      "p TAX : 200\n",
      "PF ; 6600.0\n",
      "Gross Pay: 110100.0\n",
      "Salry : 1321200.0\n",
      "Total Tax : 142800.0\n"
     ]
    }
   ],
   "source": [
    "gl=input(\"Enter Grade ~> \")\n",
    "classs=int(input(\"Enter Class Number ~>\"))\n",
    "if gl in 'Aa':\n",
    "    bp=60000\n",
    "    oa=8000\n",
    "if gl in 'Bb':\n",
    "    bp=50000\n",
    "    oa=7000\n",
    "if gl in 'Cc':\n",
    "    bp=40000\n",
    "    oa=6000\n",
    "if gl in 'Dd':\n",
    "    bp=30000\n",
    "    oa=5000\n",
    "if gl in 'Ee':\n",
    "    bp=20000\n",
    "    oa=4000\n",
    "if gl in 'Ff':\n",
    "    bp=10000\n",
    "    oa=3000\n",
    "\n",
    "if classs==1:\n",
    "    hra=0.3*bp\n",
    "if classs==2:\n",
    "    hra=0.2*bp\n",
    "if classs==3:\n",
    "    hra=0.1*bp\n",
    "    \n",
    "pt=200\n",
    "da=0.5*bp\n",
    "epf=0.11*bp\n",
    "ta=900 \n",
    "\n",
    "gp=bp+hra+da+oa+ta-pt-epf\n",
    "print('Basic Pay :',bp)\n",
    "print('Other Allowance :',oa)\n",
    "print('HRA :',hra)\n",
    "print('DA :',da)\n",
    "print(\"TA :\",ta)\n",
    "print(\"p TAX :\",pt)\n",
    "print(\"PF ;\",epf)\n",
    "\n",
    "print(\"Gross Pay:\",gp)\n",
    "\n",
    "sal=gp*12\n",
    "print('Salry :',sal)\n",
    "\n",
    "if sal<250000 :\n",
    "    tax=0\n",
    "if sal>250001 and sal<500000 :\n",
    "    tax=(sal-250000)*0.05\n",
    "if sal>500000 and sal<750000 :\n",
    "    tax=(sal-500000)*0.1 +12500\n",
    "if sal>750001 and sal<1000000 :\n",
    "    tax=(sal-750000)*0.15+37500\n",
    "if sal>1000001 and sal<1250000 :\n",
    "    tax=(sal-1000000)*0.2+75000\n",
    "if sal>1250001 and sal<1500000 :\n",
    "    tax=(sal-1250000)*0.25+125000\n",
    "if sal>1500001 :\n",
    "    tax=(sal-150000)*0.3+187500\n",
    "    \n",
    "print(\"Total Tax :\",tax)"
   ]
  },
  {
   "attachments": {
    "image.png": {
     "image/png": "[encoded data removed]"
    }
   },
   "cell_type": "markdown",
   "metadata": {},
   "source": [
    "# Pattern \n",
    "![image.png](attachment:image.png)\n",
    "* Pattern i = 1 , n+1\n",
    "*         j = 1 , n+1"
   ]
  },
  {
   "cell_type": "code",
   "execution_count": 39,
   "metadata": {},
   "outputs": [
    {
     "name": "stdout",
     "output_type": "stream",
     "text": [
      "Enter number of rows ~> 5\n",
      "* \n",
      "* * \n",
      "* * * \n",
      "* * * * \n",
      "* * * * * \n"
     ]
    }
   ],
   "source": [
    "n=int(input('Enter number of rows ~> '))\n",
    "for i in range(1,n+1) :\n",
    "    for j in range(1,i+1) :\n",
    "        print(\"*\",end=\" \")\n",
    "    print()"
   ]
  },
  {
   "cell_type": "code",
   "execution_count": 23,
   "metadata": {},
   "outputs": [
    {
     "name": "stdout",
     "output_type": "stream",
     "text": [
      "Enter number of rows ~> 5\n",
      "1 \n",
      "2 2 \n",
      "3 3 3 \n",
      "4 4 4 4 \n",
      "5 5 5 5 5 \n"
     ]
    }
   ],
   "source": [
    "n=int(input('Enter number of rows ~> '))\n",
    "for i in range(1,n+1) :\n",
    "    for j in range(1,i+1) :\n",
    "        print(i,end=\" \")\n",
    "    print()"
   ]
  },
  {
   "cell_type": "code",
   "execution_count": 24,
   "metadata": {
    "scrolled": true
   },
   "outputs": [
    {
     "name": "stdout",
     "output_type": "stream",
     "text": [
      "Enter number of rows ~> 5\n",
      "1 \n",
      "1 2 \n",
      "1 2 3 \n",
      "1 2 3 4 \n",
      "1 2 3 4 5 \n"
     ]
    }
   ],
   "source": [
    "n=int(input('Enter number of rows ~> '))\n",
    "for i in range(1,n+1) :\n",
    "    for j in range(1,i+1) :\n",
    "        print(j,end=\" \")\n",
    "    print()"
   ]
  },
  {
   "cell_type": "code",
   "execution_count": 41,
   "metadata": {},
   "outputs": [
    {
     "name": "stdout",
     "output_type": "stream",
     "text": [
      "Enter number of rows ~> 10\n",
      "1 \n",
      "0 1 \n",
      "1 0 1 \n",
      "0 1 0 1 \n",
      "1 0 1 0 1 \n",
      "0 1 0 1 0 1 \n",
      "1 0 1 0 1 0 1 \n",
      "0 1 0 1 0 1 0 1 \n",
      "1 0 1 0 1 0 1 0 1 \n",
      "0 1 0 1 0 1 0 1 0 1 \n"
     ]
    }
   ],
   "source": [
    "n=int(input('Enter number of rows ~> '))\n",
    "for i in range(1,n+1) :\n",
    "    for j in range(1,i+1) :\n",
    "        if (i+j)%2==0 :\n",
    "            print(1,end=\" \")\n",
    "        else :\n",
    "            print(0,end=\" \")\n",
    "\n",
    "    print()"
   ]
  },
  {
   "cell_type": "code",
   "execution_count": 42,
   "metadata": {},
   "outputs": [
    {
     "name": "stdout",
     "output_type": "stream",
     "text": [
      "Enter number of rows ~> 5\n",
      "1 \n",
      "0 1 \n",
      "1 0 1 \n",
      "0 1 0 1 \n",
      "1 0 1 0 1 \n"
     ]
    }
   ],
   "source": [
    "# above without if else\n",
    "n=int(input('Enter number of rows ~> '))\n",
    "for i in range(1,n+1) :\n",
    "    for j in range(1,i+1) :    \n",
    "        print((i+j-1)%2,end=\" \")\n",
    "    print()"
   ]
  },
  {
   "cell_type": "code",
   "execution_count": 44,
   "metadata": {},
   "outputs": [
    {
     "name": "stdout",
     "output_type": "stream",
     "text": [
      "Enter number of rows ~> 5\n",
      "* \n",
      "# # \n",
      "* * * \n",
      "# # # # \n",
      "* * * * * \n"
     ]
    }
   ],
   "source": [
    "# above without if else\n",
    "n=int(input('Enter number of rows ~> '))\n",
    "for i in range(1,n+1) :\n",
    "    for j in range(1,i+1) :    \n",
    "        if (i)%2==0 :\n",
    "            print(\"#\",end=\" \")\n",
    "        else :\n",
    "            print('*',end=\" \")\n",
    "    print()"
   ]
  },
  {
   "attachments": {
    "image-2.png": {
     "image/png": "[encoded data removed]"
    }
   },
   "cell_type": "markdown",
   "metadata": {},
   "source": [
    "### Type 2\n",
    "![image-2.png](attachment:image-2.png)* i 1,n+1\n",
    "* j i,n+1"
   ]
  },
  {
   "cell_type": "code",
   "execution_count": 48,
   "metadata": {},
   "outputs": [
    {
     "name": "stdout",
     "output_type": "stream",
     "text": [
      "Enter number of rows ~> 5\n",
      "* * * * * \n",
      "* * * * \n",
      "* * * \n",
      "* * \n",
      "* \n"
     ]
    }
   ],
   "source": [
    "n=int(input('Enter number of rows ~> '))\n",
    "for i in range(1,n+1) :\n",
    "    for j in range(i,n+1) :\n",
    "        print(\"*\",end=\" \")\n",
    "    print()"
   ]
  },
  {
   "cell_type": "code",
   "execution_count": 56,
   "metadata": {},
   "outputs": [
    {
     "name": "stdout",
     "output_type": "stream",
     "text": [
      "Enter number of rows ~> 5\n",
      "1 2 3 4 5 \n",
      "2 3 4 5 \n",
      "3 4 5 \n",
      "4 5 \n",
      "5 \n"
     ]
    }
   ],
   "source": [
    "n=int(input('Enter number of rows ~> '))\n",
    "for i in range(1,n+1) :\n",
    "    for j in range(i,n+1) :\n",
    "        print(j,end=\" \")\n",
    "    print()"
   ]
  },
  {
   "cell_type": "code",
   "execution_count": 63,
   "metadata": {},
   "outputs": [
    {
     "name": "stdout",
     "output_type": "stream",
     "text": [
      "Enter number of rows ~> 5\n",
      "1 2 3 4 5 \n",
      "1 2 3 4 \n",
      "1 2 3 \n",
      "1 2 \n",
      "1 \n"
     ]
    }
   ],
   "source": [
    "n=int(input('Enter number of rows ~> '))\n",
    "for i in range(1,n+1) :\n",
    "    for j in range(i,n+1) :\n",
    "        print(j-i+1,end=\" \")\n",
    "    print()"
   ]
  },
  {
   "cell_type": "code",
   "execution_count": 54,
   "metadata": {},
   "outputs": [
    {
     "name": "stdout",
     "output_type": "stream",
     "text": [
      "Enter number of rows ~> 5\n",
      "5 4 3 2 1 \n",
      "5 4 3 2 \n",
      "5 4 3 \n",
      "5 4 \n",
      "5 \n"
     ]
    }
   ],
   "source": [
    "n=int(input('Enter number of rows ~> '))\n",
    "for i in range(1,n+1) :\n",
    "    for j in range(n,i-1,-1) :\n",
    "        print(j,end=\" \")\n",
    "    print()"
   ]
  },
  {
   "attachments": {
    "image.png": {
     "image/png": "[encoded data removed]"
    }
   },
   "cell_type": "markdown",
   "metadata": {},
   "source": [
    "### Type 3 \n",
    "![image.png](attachment:image.png)\n",
    "* i 1, n+1\n",
    "* j i, n+1\n",
    "* k 1, i+1"
   ]
  },
  {
   "cell_type": "code",
   "execution_count": 73,
   "metadata": {},
   "outputs": [
    {
     "name": "stdout",
     "output_type": "stream",
     "text": [
      "Enter number of rows ~> 5\n",
      "          * \n",
      "        * * \n",
      "      * * * \n",
      "    * * * * \n",
      "  * * * * * \n"
     ]
    }
   ],
   "source": [
    "n=int(input('Enter number of rows ~> '))\n",
    "for i in range(1,n+1) :\n",
    "    for j in range(i,n+1) :\n",
    "        print(\" \",end=\" \")\n",
    "    for k in range(1,i+1) :\n",
    "        print(\"*\",end=\" \")\n",
    "    print()"
   ]
  },
  {
   "cell_type": "code",
   "execution_count": 67,
   "metadata": {},
   "outputs": [
    {
     "name": "stdout",
     "output_type": "stream",
     "text": [
      "Enter number of rows ~> 5\n",
      "          1 \n",
      "        2 2 \n",
      "      3 3 3 \n",
      "    4 4 4 4 \n",
      "  5 5 5 5 5 \n"
     ]
    }
   ],
   "source": [
    "n=int(input('Enter number of rows ~> '))\n",
    "for i in range(1,n+1) :\n",
    "    for j in range(i,n+1) :\n",
    "        print(\" \",end=\" \")\n",
    "    for k in range(1,i+1) :\n",
    "        print(i,end=\" \")\n",
    "    print()"
   ]
  },
  {
   "cell_type": "code",
   "execution_count": 75,
   "metadata": {},
   "outputs": [
    {
     "name": "stdout",
     "output_type": "stream",
     "text": [
      "Enter number of rows ~> 5\n",
      "          1 \n",
      "        1 2 \n",
      "      1 2 3 \n",
      "    1 2 3 4 \n",
      "  1 2 3 4 5 \n"
     ]
    }
   ],
   "source": [
    "n=int(input('Enter number of rows ~> '))\n",
    "for i in range(1,n+1) :\n",
    "    for j in range(i,n+1) :\n",
    "        print(\" \",end=\" \")\n",
    "    for k in range(1,i+1) :\n",
    "        print(k,end=\" \")\n",
    "    print()"
   ]
  },
  {
   "attachments": {
    "image.png": {
     "image/png": "[encoded data removed]"
    }
   },
   "cell_type": "markdown",
   "metadata": {},
   "source": [
    "### Type 4\n",
    "![image.png](attachment:image.png)"
   ]
  },
  {
   "cell_type": "code",
   "execution_count": null,
   "metadata": {},
   "outputs": [],
   "source": []
  }
 ],
 "metadata": {
  "kernelspec": {
   "display_name": "Python 3",
   "language": "python",
   "name": "python3"
  },
  "language_info": {
   "codemirror_mode": {
    "name": "ipython",
    "version": 3
   },
   "file_extension": ".py",
   "mimetype": "text/x-python",
   "name": "python",
   "nbconvert_exporter": "python",
   "pygments_lexer": "ipython3",
   "version": "3.8.5"
  }
 },
 "nbformat": 4,
 "nbformat_minor": 4
}
