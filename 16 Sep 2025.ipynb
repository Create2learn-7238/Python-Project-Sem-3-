{
 "cells": [
  {
   "cell_type": "markdown",
   "metadata": {},
   "source": [
    "# Unit : 1 Intro to Python\n"
   ]
  },
  {
   "attachments": {
    "image.png": {
     "image/png": "[encoded data removed]"
    }
   },
   "cell_type": "markdown",
   "metadata": {},
   "source": [
    "## Identifier\n",
    "- A name in python program is called identifier\n",
    "- Class name , Function Name , Module Name , Variable name\n",
    "1)  The only allowed Characters in python are\n",
    "-alphabet (A-Z , a-z)\n",
    "-digit(0-9)\n",
    "-underscode Symbol (_)\n",
    "-eg. \n",
    "    - cash=100  OK \n",
    "    - ca$h=100  SyntaxError: invalid syntax\n",
    "    \n",
    "2) Identifier Should not Start with Digit\n",
    "- eg. \n",
    "   - total123=111\n",
    "   -  123total=111 SyntaxError: invalid syntax\n",
    "\n",
    "3) Identifier are case sensitive\n",
    "- eg. \n",
    "    - total=111\n",
    "    - Total=111\n",
    "    - TOTAL=111\n",
    "    \n",
    "4) Identifier canot use as reserve key\n",
    "- eg.\n",
    "    - def=111 SyntaxError: invalid syntax \n",
    "    - Def=11\n",
    "\n",
    "![image.png](attachment:image.png)\n",
    "\n",
    "\n",
    "5) There is no Length limit for python identifier but not recommended to use too lengthy\n",
    "- eg. \n",
    "    - a=10   good\n",
    "    - xyz_pqr_abc=10   bad\n",
    "    \n",
    "6) if Identifiers Start with underscore(_) then the it is private identifier\n",
    "- eg.\n",
    "  - _a=10\n",
    "  \n",
    "7) if Identifiers Start with 2 underscore(__) then the it is Strong private identifier\n",
    "- eg.\n",
    "  - __a=10\n",
    "\n",
    "8) if Identifiers Start and ends with a underscore(_) then the identifier is language defined special name , which is also known as magic methods\n",
    "- eg.\n",
    "  - _a_=10\n"
   ]
  },
  {
   "cell_type": "markdown",
   "metadata": {},
   "source": [
    "## Datatype\n",
    "- Text Type - Str\n",
    "- Numeric Type - int , float , complex\n",
    "- Sequence Type - list , tuple , range\n",
    "- mapping Type - dict\n",
    "- Set Type - set , frozenset\n",
    "- Boolean Type - bool\n"
   ]
  },
  {
   "cell_type": "markdown",
   "metadata": {},
   "source": [
    "### String str\n",
    "- s1='Dixit'\n",
    "- s1=\"Dixit\"\n",
    "- s1='''Dixit'''\n",
    "- s1=\"\"\"Dixit\"\"\"\n",
    "print(type(s1))"
   ]
  },
  {
   "cell_type": "markdown",
   "metadata": {},
   "source": [
    "### int\n",
    "- x=1\n",
    "- y=29382932\n",
    "- z=-56345\n",
    "- print(type(x))"
   ]
  },
  {
   "cell_type": "markdown",
   "metadata": {},
   "source": [
    "###  Number System\n",
    "**Binary**\n",
    "- a=0b1111 or 0B1111\n",
    "- c=0b123 SyntaxError: invalid digit '2' in binary literal\n",
    "\n",
    "**Octal**\n",
    "- x=0o112 or 0O 112\n",
    "- x=0o118 SyntaxError: invalid digit '8' in octal literal\n",
    "\n",
    "**hexadecimal**\n",
    "- p=0x11 or 0X111"
   ]
  },
  {
   "cell_type": "markdown",
   "metadata": {},
   "source": [
    "### Base coverstion\n",
    "**1) bin()**\n",
    "- bin(15)\n",
    "- bin(0o 15)\n",
    "**2) oct()**\n",
    "- oct(20)\n",
    "- oct(0b110)\n",
    "\n",
    "**3) hex()**\n",
    "- hex(0b110)\n",
    "\n"
   ]
  },
  {
   "cell_type": "code",
   "execution_count": null,
   "metadata": {},
   "outputs": [],
   "source": []
  },
  {
   "cell_type": "code",
   "execution_count": 30,
   "metadata": {},
   "outputs": [
    {
     "name": "stdout",
     "output_type": "stream",
     "text": [
      "0b1001\n"
     ]
    }
   ],
   "source": [
    "print(bin(0o11))"
   ]
  }
 ],
 "metadata": {
  "kernelspec": {
   "display_name": "Python 3",
   "language": "python",
   "name": "python3"
  },
  "language_info": {
   "codemirror_mode": {
    "name": "ipython",
    "version": 3
   },
   "file_extension": ".py",
   "mimetype": "text/x-python",
   "name": "python",
   "nbconvert_exporter": "python",
   "pygments_lexer": "ipython3",
   "version": "3.8.5"
  }
 },
 "nbformat": 4,
 "nbformat_minor": 4
}
