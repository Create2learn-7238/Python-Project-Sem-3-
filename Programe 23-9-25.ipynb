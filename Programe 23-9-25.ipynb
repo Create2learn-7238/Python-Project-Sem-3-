{
 "cells": [
  {
   "cell_type": "code",
   "execution_count": 2,
   "metadata": {},
   "outputs": [
    {
     "name": "stdout",
     "output_type": "stream",
     "text": [
      "Enter Radius5\n",
      "Area Of Circle :  78.53981633974483\n"
     ]
    }
   ],
   "source": [
    "# WRITE a program to fing the area of circle radius is to be entered by user\n",
    "import math\n",
    "r=float(input(\"Enter Radius - \"))\n",
    "area=math.pi*r*r\n",
    "print(\"Area Of Circle : \",area)"
   ]
  },
  {
   "cell_type": "code",
   "execution_count": 8,
   "metadata": {},
   "outputs": [
    {
     "name": "stdout",
     "output_type": "stream",
     "text": [
      "Enter Radius - 10\n",
      "Enter Height - 6\n",
      "Area Of cylinder :  1005.3096491487338\n",
      "Volume Of Circle :  1884.9555921538758\n"
     ]
    }
   ],
   "source": [
    "# Area and Volume of cylinder\n",
    "r=float(input(\"Enter Radius - \"))\n",
    "h=float(input(\"Enter Height - \"))\n",
    "area=(2*math.pi*r*r)+(2*math.pi*r*h)\n",
    "volume=math.pi*r*r*h\n",
    "print(\"Area Of cylinder : \",area)\n",
    "print(\"Volume Of Circle : \",volume)"
   ]
  },
  {
   "cell_type": "code",
   "execution_count": 13,
   "metadata": {},
   "outputs": [
    {
     "name": "stdout",
     "output_type": "stream",
     "text": [
      "Enter Temp in celcius : 15\n",
      "Temp in Ferhanite id :  59.0\n"
     ]
    }
   ],
   "source": [
    "# degree celsius to farhanite\n",
    "c=float(input(\"Enter Temp in celcius : \"))\n",
    "f=c*9/5 + 32\n",
    "print(\"Temp in Ferhanite id : \",f)"
   ]
  },
  {
   "cell_type": "code",
   "execution_count": 14,
   "metadata": {},
   "outputs": [
    {
     "name": "stdout",
     "output_type": "stream",
     "text": [
      "Enter Temp in ferhanite : 59.0\n",
      "Temp in Celcius id :  15.0\n"
     ]
    }
   ],
   "source": [
    "# degree farhanite to celcius\n",
    "f=float(input(\"Enter Temp in ferhanite : \"))\n",
    "c=(f-32)*(5/9)\n",
    "print(\"Temp in Celcius id : \",c)"
   ]
  },
  {
   "cell_type": "markdown",
   "metadata": {},
   "source": [
    "# "
   ]
  }
 ],
 "metadata": {
  "kernelspec": {
   "display_name": "Python 3",
   "language": "python",
   "name": "python3"
  },
  "language_info": {
   "codemirror_mode": {
    "name": "ipython",
    "version": 3
   },
   "file_extension": ".py",
   "mimetype": "text/x-python",
   "name": "python",
   "nbconvert_exporter": "python",
   "pygments_lexer": "ipython3",
   "version": "3.8.5"
  }
 },
 "nbformat": 4,
 "nbformat_minor": 4
}
