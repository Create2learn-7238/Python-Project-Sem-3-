{
 "cells": [
  {
   "cell_type": "markdown",
   "metadata": {},
   "source": [
    "# Unit-3 Function and Scoping\n",
    "    1) Built in function \n",
    "    2) User define function\n",
    "    \n",
    "    Syntax :\n",
    "        def function_namr(Parameters):\n",
    "            body of function\n",
    "            return value"
   ]
  },
  {
   "cell_type": "code",
   "execution_count": 3,
   "metadata": {},
   "outputs": [
    {
     "name": "stdout",
     "output_type": "stream",
     "text": [
      "Hello Dixit Good Night\n"
     ]
    }
   ],
   "source": [
    "def wish(name):\n",
    "    print('Hello',name,'Good Night')\n",
    "wish('Dixit Patel')"
   ]
  },
  {
   "cell_type": "code",
   "execution_count": 4,
   "metadata": {},
   "outputs": [
    {
     "ename": "TypeError",
     "evalue": "wish() missing 1 required positional argument: 'name'",
     "output_type": "error",
     "traceback": [
      "\u001b[1;31m---------------------------------------------------------------------------\u001b[0m",
      "\u001b[1;31mTypeError\u001b[0m                                 Traceback (most recent call last)",
      "\u001b[1;32m<ipython-input-4-c0e1380c0921>\u001b[0m in \u001b[0;36m<module>\u001b[1;34m\u001b[0m\n\u001b[1;32m----> 1\u001b[1;33m \u001b[0mwish\u001b[0m\u001b[1;33m(\u001b[0m\u001b[1;33m)\u001b[0m\u001b[1;33m\u001b[0m\u001b[1;33m\u001b[0m\u001b[0m\n\u001b[0m",
      "\u001b[1;31mTypeError\u001b[0m: wish() missing 1 required positional argument: 'name'"
     ]
    }
   ],
   "source": [
    "wish()"
   ]
  },
  {
   "cell_type": "markdown",
   "metadata": {},
   "source": [
    "##  Differernt types of UDF (user define fumction)"
   ]
  },
  {
   "cell_type": "markdown",
   "metadata": {},
   "source": [
    "### 1) function with no parameter and no return type"
   ]
  },
  {
   "cell_type": "code",
   "execution_count": 9,
   "metadata": {},
   "outputs": [
    {
     "name": "stdout",
     "output_type": "stream",
     "text": [
      "Enter U r Roll no ~> 38\n",
      "Roll NO :  38\n"
     ]
    }
   ],
   "source": [
    "def roll():\n",
    "    s=int(input('Enter U r Roll no ~> '))\n",
    "    print('Roll NO : ',s)\n",
    "roll()"
   ]
  },
  {
   "cell_type": "markdown",
   "metadata": {},
   "source": [
    "### 2) function with parameter and no return type"
   ]
  },
  {
   "cell_type": "code",
   "execution_count": 13,
   "metadata": {},
   "outputs": [
    {
     "name": "stdout",
     "output_type": "stream",
     "text": [
      "Roll NO :  56\n",
      "None\n"
     ]
    }
   ],
   "source": [
    "def roll2(s):\n",
    "    print('Roll NO : ',s)\n",
    "roll2(56)"
   ]
  },
  {
   "cell_type": "markdown",
   "metadata": {},
   "source": [
    "### 3) function with parameter and with return type"
   ]
  },
  {
   "cell_type": "code",
   "execution_count": 12,
   "metadata": {},
   "outputs": [
    {
     "name": "stdout",
     "output_type": "stream",
     "text": [
      "Enter U r Roll no ~> 111\n",
      "111\n"
     ]
    }
   ],
   "source": [
    "def roll3(x):\n",
    "    return x\n",
    "\n",
    "s=int(input('Enter U r Roll no ~> '))\n",
    "t=roll3(s)\n",
    "print(t)"
   ]
  },
  {
   "cell_type": "markdown",
   "metadata": {},
   "source": [
    "### 4) function with no parameter and with return type"
   ]
  },
  {
   "cell_type": "code",
   "execution_count": null,
   "metadata": {},
   "outputs": [],
   "source": [
    "def roll3():\n",
    "    return x\n",
    "\n",
    "t=roll3(s)\n",
    "print(t)"
   ]
  },
  {
   "cell_type": "code",
   "execution_count": 23,
   "metadata": {},
   "outputs": [
    {
     "name": "stdout",
     "output_type": "stream",
     "text": [
      "0 1 2 3 4\n"
     ]
    }
   ],
   "source": [
    "# try if possible \n",
    "print(*(i for i in range(5)))"
   ]
  },
  {
   "cell_type": "code",
   "execution_count": 29,
   "metadata": {},
   "outputs": [
    {
     "name": "stdout",
     "output_type": "stream",
     "text": [
      "Enter last number ~>15\n",
      "1 3 5 7 9 11 13 15\n"
     ]
    }
   ],
   "source": [
    "#WAF to accept n and print i print odd number in 1 to n\n",
    "def odd(n):\n",
    "    print(*(i for i in range(1,n+1) if i%2!=0 ))\n",
    "n=int(input(\"Enter last number ~>\"))\n",
    "odd(n)"
   ]
  },
  {
   "cell_type": "markdown",
   "metadata": {},
   "source": [
    "### Return Statement"
   ]
  },
  {
   "cell_type": "code",
   "execution_count": 32,
   "metadata": {},
   "outputs": [
    {
     "name": "stdout",
     "output_type": "stream",
     "text": [
      "3\n",
      "7\n"
     ]
    }
   ],
   "source": [
    "def add(x,y):\n",
    "    return x+y\n",
    "result=add(1,2)\n",
    "print(result)\n",
    "print(add(3,4))"
   ]
  },
  {
   "cell_type": "code",
   "execution_count": 38,
   "metadata": {},
   "outputs": [
    {
     "name": "stdout",
     "output_type": "stream",
     "text": [
      "(X , Y) =  10 -4\n",
      "***********\n",
      "(15, 5)\n"
     ]
    }
   ],
   "source": [
    "def sumsub(x,y):\n",
    "    return x+y , x-y\n",
    "x,y=sumsub(3,7)\n",
    "print('(X , Y) = ',x,y)\n",
    "print(\"***********\")\n",
    "print(sumsub(10,5))"
   ]
  },
  {
   "cell_type": "markdown",
   "metadata": {},
   "source": [
    "## DocString"
   ]
  },
  {
   "cell_type": "code",
   "execution_count": 47,
   "metadata": {},
   "outputs": [
    {
     "data": {
      "text/plain": [
       "5.0"
      ]
     },
     "execution_count": 47,
     "metadata": {},
     "output_type": "execute_result"
    }
   ],
   "source": [
    "import math\n",
    "math.sqrt(25)\n",
    "#press Tab"
   ]
  },
  {
   "cell_type": "code",
   "execution_count": 48,
   "metadata": {},
   "outputs": [
    {
     "name": "stdout",
     "output_type": "stream",
     "text": [
      "25\n",
      " Argument passes into x returns squ of x \n"
     ]
    }
   ],
   "source": [
    "def sqr(x):\n",
    "    \"\"\" Argument passes into x returns squ of x \"\"\"\n",
    "    return x*x\n",
    "\n",
    "t=sqr(5)\n",
    "print(t)\n",
    "print(sqr.__doc__)"
   ]
  },
  {
   "cell_type": "markdown",
   "metadata": {},
   "source": [
    "## * Types of Arguments "
   ]
  },
  {
   "cell_type": "markdown",
   "metadata": {},
   "source": [
    "### 1) Positional argument "
   ]
  },
  {
   "cell_type": "code",
   "execution_count": 50,
   "metadata": {},
   "outputs": [
    {
     "name": "stdout",
     "output_type": "stream",
     "text": [
      "-10\n",
      "10\n"
     ]
    }
   ],
   "source": [
    "def sub(a,b):\n",
    "    print(a-b)\n",
    "    \n",
    "sub(10,20)\n",
    "sub(20,10)"
   ]
  },
  {
   "cell_type": "markdown",
   "metadata": {},
   "source": [
    "### 2) Keyword Argument"
   ]
  },
  {
   "cell_type": "code",
   "execution_count": 58,
   "metadata": {},
   "outputs": [
    {
     "name": "stdout",
     "output_type": "stream",
     "text": [
      "Hello :  Dixit Patel   MSG: GM\n",
      "Hello :  Bhuprndra Jogi   MSG: America me \n",
      "Hello :  Kush    MSG: Bahana 6 eto \n"
     ]
    }
   ],
   "source": [
    "def wish(name,msg):\n",
    "    print('Hello : ',name,\"  MSG:\",msg)\n",
    "    \n",
    "wish(name=\"Dixit Patel\" ,msg='GM')\n",
    "wish(msg='America me ',name=\"Bhuprndra Jogi\")\n",
    "wish(\"Kush \" ,msg='Bahana 6 eto ')"
   ]
  },
  {
   "cell_type": "code",
   "execution_count": 60,
   "metadata": {},
   "outputs": [
    {
     "ename": "SyntaxError",
     "evalue": "positional argument follows keyword argument (<ipython-input-60-cb2e4cb521dd>, line 1)",
     "output_type": "error",
     "traceback": [
      "\u001b[1;36m  File \u001b[1;32m\"<ipython-input-60-cb2e4cb521dd>\"\u001b[1;36m, line \u001b[1;32m1\u001b[0m\n\u001b[1;33m    wish(name=\"Abcd\" ,'Oyyy')\u001b[0m\n\u001b[1;37m                      ^\u001b[0m\n\u001b[1;31mSyntaxError\u001b[0m\u001b[1;31m:\u001b[0m positional argument follows keyword argument\n"
     ]
    }
   ],
   "source": [
    "wish(name=\"Abcd\" ,'Oyyy')"
   ]
  },
  {
   "cell_type": "markdown",
   "metadata": {},
   "source": [
    "### 3) default argumrnt"
   ]
  },
  {
   "cell_type": "code",
   "execution_count": 62,
   "metadata": {},
   "outputs": [
    {
     "name": "stdout",
     "output_type": "stream",
     "text": [
      "Dixit\n",
      "guest\n"
     ]
    }
   ],
   "source": [
    "def wish(name='guest'):\n",
    "    print(name)\n",
    "    \n",
    "wish('Dixit')\n",
    "wish()"
   ]
  },
  {
   "cell_type": "markdown",
   "metadata": {},
   "source": [
    "### 4) Variable length argument"
   ]
  },
  {
   "cell_type": "code",
   "execution_count": 69,
   "metadata": {},
   "outputs": [
    {
     "name": "stdout",
     "output_type": "stream",
     "text": [
      "total  60\n",
      "total  0\n",
      "total  55\n"
     ]
    }
   ],
   "source": [
    "def f(*n):\n",
    "    total=0\n",
    "    for i in n:\n",
    "        total+=i\n",
    "    print(\"total \",total)\n",
    "        \n",
    "f(10,20,30)\n",
    "f()\n",
    "f(1,2,3,4,5,6,7,8,9,10)"
   ]
  },
  {
   "cell_type": "code",
   "execution_count": 75,
   "metadata": {},
   "outputs": [
    {
     "name": "stdout",
     "output_type": "stream",
     "text": [
      "first  10\n",
      "total  50\n",
      "first  0\n",
      "total  0\n",
      "first  1\n",
      "total  54\n"
     ]
    }
   ],
   "source": [
    "def f1(n,*s):\n",
    "    print(\"first \",n)\n",
    "    total=0\n",
    "    for i in s:\n",
    "        total+=i\n",
    "    print(\"total \",total)\n",
    "        \n",
    "f1(10,20,30)\n",
    "f1(0)\n",
    "f1(1,2,3,4,5,6,7,8,9,10)"
   ]
  }
 ],
 "metadata": {
  "kernelspec": {
   "display_name": "Python 3",
   "language": "python",
   "name": "python3"
  },
  "language_info": {
   "codemirror_mode": {
    "name": "ipython",
    "version": 3
   },
   "file_extension": ".py",
   "mimetype": "text/x-python",
   "name": "python",
   "nbconvert_exporter": "python",
   "pygments_lexer": "ipython3",
   "version": "3.8.5"
  }
 },
 "nbformat": 4,
 "nbformat_minor": 4
}
