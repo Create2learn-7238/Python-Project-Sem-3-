{
 "cells": [
  {
   "cell_type": "markdown",
   "metadata": {},
   "source": [
    "# Unit-3 Function and Scoping\n",
    "    1) Built in function \n",
    "    2) User define function\n",
    "    \n",
    "    Syntax :\n",
    "        def function_namr(Parameters):\n",
    "            body of function\n",
    "            return value"
   ]
  },
  {
   "cell_type": "code",
   "execution_count": 3,
   "metadata": {},
   "outputs": [
    {
     "name": "stdout",
     "output_type": "stream",
     "text": [
      "Hello Dixit Good Night\n"
     ]
    }
   ],
   "source": [
    "def wish(name):\n",
    "    print('Hello',name,'Good Night')\n",
    "wish('Dixit Patel')"
   ]
  },
  {
   "cell_type": "code",
   "execution_count": 4,
   "metadata": {},
   "outputs": [
    {
     "ename": "TypeError",
     "evalue": "wish() missing 1 required positional argument: 'name'",
     "output_type": "error",
     "traceback": [
      "\u001b[1;31m---------------------------------------------------------------------------\u001b[0m",
      "\u001b[1;31mTypeError\u001b[0m                                 Traceback (most recent call last)",
      "\u001b[1;32m<ipython-input-4-c0e1380c0921>\u001b[0m in \u001b[0;36m<module>\u001b[1;34m\u001b[0m\n\u001b[1;32m----> 1\u001b[1;33m \u001b[0mwish\u001b[0m\u001b[1;33m(\u001b[0m\u001b[1;33m)\u001b[0m\u001b[1;33m\u001b[0m\u001b[1;33m\u001b[0m\u001b[0m\n\u001b[0m",
      "\u001b[1;31mTypeError\u001b[0m: wish() missing 1 required positional argument: 'name'"
     ]
    }
   ],
   "source": [
    "wish()"
   ]
  },
  {
   "cell_type": "markdown",
   "metadata": {},
   "source": [
    "##  Differernt types of UDF (user define fumction)"
   ]
  },
  {
   "cell_type": "markdown",
   "metadata": {},
   "source": [
    "### 1) function with no parameter and no return type"
   ]
  },
  {
   "cell_type": "code",
   "execution_count": 9,
   "metadata": {},
   "outputs": [
    {
     "name": "stdout",
     "output_type": "stream",
     "text": [
      "Enter U r Roll no ~> 38\n",
      "Roll NO :  38\n"
     ]
    }
   ],
   "source": [
    "def roll():\n",
    "    s=int(input('Enter U r Roll no ~> '))\n",
    "    print('Roll NO : ',s)\n",
    "roll()"
   ]
  },
  {
   "cell_type": "markdown",
   "metadata": {},
   "source": [
    "### 2) function with parameter and no return type"
   ]
  },
  {
   "cell_type": "code",
   "execution_count": 13,
   "metadata": {},
   "outputs": [
    {
     "name": "stdout",
     "output_type": "stream",
     "text": [
      "Roll NO :  56\n",
      "None\n"
     ]
    }
   ],
   "source": [
    "def roll2(s):\n",
    "    print('Roll NO : ',s)\n",
    "roll2(56)"
   ]
  },
  {
   "cell_type": "markdown",
   "metadata": {},
   "source": [
    "### 3) function with parameter and with return type"
   ]
  },
  {
   "cell_type": "code",
   "execution_count": 12,
   "metadata": {},
   "outputs": [
    {
     "name": "stdout",
     "output_type": "stream",
     "text": [
      "Enter U r Roll no ~> 111\n",
      "111\n"
     ]
    }
   ],
   "source": [
    "def roll3(x):\n",
    "    return x\n",
    "\n",
    "s=int(input('Enter U r Roll no ~> '))\n",
    "t=roll3(s)\n",
    "print(t)"
   ]
  },
  {
   "cell_type": "markdown",
   "metadata": {},
   "source": [
    "### 4) function with no parameter and with return type"
   ]
  },
  {
   "cell_type": "code",
   "execution_count": null,
   "metadata": {},
   "outputs": [],
   "source": [
    "def roll3():\n",
    "    return x\n",
    "\n",
    "t=roll3(s)\n",
    "print(t)"
   ]
  },
  {
   "cell_type": "code",
   "execution_count": 23,
   "metadata": {},
   "outputs": [
    {
     "name": "stdout",
     "output_type": "stream",
     "text": [
      "0 1 2 3 4\n"
     ]
    }
   ],
   "source": [
    "# try if possible \n",
    "print(*(i for i in range(5)))"
   ]
  },
  {
   "cell_type": "code",
   "execution_count": 29,
   "metadata": {},
   "outputs": [
    {
     "name": "stdout",
     "output_type": "stream",
     "text": [
      "Enter last number ~>15\n",
      "1 3 5 7 9 11 13 15\n"
     ]
    }
   ],
   "source": [
    "#WAF to accept n and print i print odd number in 1 to n\n",
    "def odd(n):\n",
    "    print(*(i for i in range(1,n+1) if i%2!=0 ))\n",
    "n=int(input(\"Enter last number ~>\"))\n",
    "odd(n)"
   ]
  },
  {
   "cell_type": "markdown",
   "metadata": {},
   "source": [
    "### Return Statement"
   ]
  },
  {
   "cell_type": "code",
   "execution_count": 32,
   "metadata": {},
   "outputs": [
    {
     "name": "stdout",
     "output_type": "stream",
     "text": [
      "3\n",
      "7\n"
     ]
    }
   ],
   "source": [
    "def add(x,y):\n",
    "    return x+y\n",
    "result=add(1,2)\n",
    "print(result)\n",
    "print(add(3,4))"
   ]
  },
  {
   "cell_type": "code",
   "execution_count": 38,
   "metadata": {},
   "outputs": [
    {
     "name": "stdout",
     "output_type": "stream",
     "text": [
      "(X , Y) =  10 -4\n",
      "***********\n",
      "(15, 5)\n"
     ]
    }
   ],
   "source": [
    "def sumsub(x,y):\n",
    "    return x+y , x-y\n",
    "x,y=sumsub(3,7)\n",
    "print('(X , Y) = ',x,y)\n",
    "print(\"***********\")\n",
    "print(sumsub(10,5))"
   ]
  },
  {
   "cell_type": "markdown",
   "metadata": {},
   "source": [
    "## DocString"
   ]
  },
  {
   "cell_type": "code",
   "execution_count": 47,
   "metadata": {},
   "outputs": [
    {
     "data": {
      "text/plain": [
       "5.0"
      ]
     },
     "execution_count": 47,
     "metadata": {},
     "output_type": "execute_result"
    }
   ],
   "source": [
    "import math\n",
    "math.sqrt(25)\n",
    "#press Tab"
   ]
  },
  {
   "cell_type": "code",
   "execution_count": 48,
   "metadata": {},
   "outputs": [
    {
     "name": "stdout",
     "output_type": "stream",
     "text": [
      "25\n",
      " Argument passes into x returns squ of x \n"
     ]
    }
   ],
   "source": [
    "def sqr(x):\n",
    "    \"\"\" Argument passes into x returns squ of x \"\"\"\n",
    "    return x*x\n",
    "\n",
    "t=sqr(5)\n",
    "print(t)\n",
    "print(sqr.__doc__)"
   ]
  },
  {
   "cell_type": "markdown",
   "metadata": {},
   "source": [
    "## * Types of Arguments "
   ]
  },
  {
   "cell_type": "markdown",
   "metadata": {},
   "source": [
    "### 1) Positional argument "
   ]
  },
  {
   "cell_type": "code",
   "execution_count": 50,
   "metadata": {},
   "outputs": [
    {
     "name": "stdout",
     "output_type": "stream",
     "text": [
      "-10\n",
      "10\n"
     ]
    }
   ],
   "source": [
    "def sub(a,b):\n",
    "    print(a-b)\n",
    "    \n",
    "sub(10,20)\n",
    "sub(20,10)"
   ]
  },
  {
   "cell_type": "markdown",
   "metadata": {},
   "source": [
    "### 2) Keyword Argument"
   ]
  },
  {
   "cell_type": "code",
   "execution_count": 58,
   "metadata": {},
   "outputs": [
    {
     "name": "stdout",
     "output_type": "stream",
     "text": [
      "Hello :  Dixit Patel   MSG: GM\n",
      "Hello :  Bhuprndra Jogi   MSG: America me \n",
      "Hello :  Kush    MSG: Bahana 6 eto \n"
     ]
    }
   ],
   "source": [
    "def wish(name,msg):\n",
    "    print('Hello : ',name,\"  MSG:\",msg)\n",
    "    \n",
    "wish(name=\"Dixit Patel\" ,msg='GM')\n",
    "wish(msg='America me ',name=\"Bhuprndra Jogi\")\n",
    "wish(\"Kush \" ,msg='Bahana 6 eto ')"
   ]
  },
  {
   "cell_type": "code",
   "execution_count": 60,
   "metadata": {},
   "outputs": [
    {
     "ename": "SyntaxError",
     "evalue": "positional argument follows keyword argument (<ipython-input-60-cb2e4cb521dd>, line 1)",
     "output_type": "error",
     "traceback": [
      "\u001b[1;36m  File \u001b[1;32m\"<ipython-input-60-cb2e4cb521dd>\"\u001b[1;36m, line \u001b[1;32m1\u001b[0m\n\u001b[1;33m    wish(name=\"Abcd\" ,'Oyyy')\u001b[0m\n\u001b[1;37m                      ^\u001b[0m\n\u001b[1;31mSyntaxError\u001b[0m\u001b[1;31m:\u001b[0m positional argument follows keyword argument\n"
     ]
    }
   ],
   "source": [
    "wish(name=\"Abcd\" ,'Oyyy')"
   ]
  },
  {
   "cell_type": "markdown",
   "metadata": {},
   "source": [
    "### 3) default argumrnt"
   ]
  },
  {
   "cell_type": "code",
   "execution_count": 62,
   "metadata": {},
   "outputs": [
    {
     "name": "stdout",
     "output_type": "stream",
     "text": [
      "Dixit\n",
      "guest\n"
     ]
    }
   ],
   "source": [
    "def wish(name='guest'):\n",
    "    print(name)\n",
    "    \n",
    "wish('Dixit')\n",
    "wish()"
   ]
  },
  {
   "cell_type": "markdown",
   "metadata": {},
   "source": [
    "### 4) Variable length argument"
   ]
  },
  {
   "cell_type": "code",
   "execution_count": 69,
   "metadata": {},
   "outputs": [
    {
     "name": "stdout",
     "output_type": "stream",
     "text": [
      "total  60\n",
      "total  0\n",
      "total  55\n"
     ]
    }
   ],
   "source": [
    "def f(*n):\n",
    "    total=0\n",
    "    for i in n:\n",
    "        total+=i\n",
    "    print(\"total \",total)\n",
    "        \n",
    "f(10,20,30)\n",
    "f()\n",
    "f(1,2,3,4,5,6,7,8,9,10)"
   ]
  },
  {
   "cell_type": "code",
   "execution_count": 75,
   "metadata": {},
   "outputs": [
    {
     "name": "stdout",
     "output_type": "stream",
     "text": [
      "first  10\n",
      "total  50\n",
      "first  0\n",
      "total  0\n",
      "first  1\n",
      "total  54\n"
     ]
    }
   ],
   "source": [
    "def f1(n,*s):\n",
    "    print(\"first \",n)\n",
    "    total=0\n",
    "    for i in s:\n",
    "        total+=i\n",
    "    print(\"total \",total)\n",
    "        \n",
    "f1(10,20,30)\n",
    "f1(0)\n",
    "f1(1,2,3,4,5,6,7,8,9,10)"
   ]
  },
  {
   "cell_type": "code",
   "execution_count": 7,
   "metadata": {},
   "outputs": [
    {
     "name": "stdout",
     "output_type": "stream",
     "text": [
      "m1 = 100\n",
      "m2 = 200\n",
      "m3 = 300\n",
      "rollno = 56\n",
      "name = Dixit Patel\n",
      "sub = Python\n",
      "marks = 0\n"
     ]
    }
   ],
   "source": [
    "def display(** abc):\n",
    "    for k,v in abc.items():\n",
    "        print(k,'=',v)\n",
    "        \n",
    "display(m1=100,m2=200,m3=300)\n",
    "display(rollno=56,name='Dixit Patel',sub='Python',marks=00)"
   ]
  },
  {
   "cell_type": "code",
   "execution_count": 11,
   "metadata": {},
   "outputs": [
    {
     "name": "stdout",
     "output_type": "stream",
     "text": [
      "= 100\n",
      "= 200\n",
      "= 300\n",
      "= 56\n",
      "= Dixit Patel\n",
      "= Python\n",
      "= 0\n"
     ]
    }
   ],
   "source": [
    "def display(** abc):\n",
    "    for v in abc.values():\n",
    "        print('=',v)\n",
    "        \n",
    "display(m1=100,m2=200,m3=300)\n",
    "display(rollno=56,name='Dixit Patel',sub='Python',marks=00)"
   ]
  },
  {
   "cell_type": "code",
   "execution_count": 10,
   "metadata": {},
   "outputs": [
    {
     "name": "stdout",
     "output_type": "stream",
     "text": [
      "m1 =\n",
      "m2 =\n",
      "m3 =\n",
      "rollno =\n",
      "name =\n",
      "sub =\n",
      "marks =\n"
     ]
    }
   ],
   "source": [
    "def display(** abc):\n",
    "    for k in abc.keys():\n",
    "        print(k,'=')\n",
    "        \n",
    "display(m1=100,m2=200,m3=300)\n",
    "display(rollno=56,name='Dixit Patel',sub='Python',marks=0)"
   ]
  },
  {
   "cell_type": "markdown",
   "metadata": {},
   "source": [
    "## nested function"
   ]
  },
  {
   "cell_type": "code",
   "execution_count": 15,
   "metadata": {},
   "outputs": [
    {
     "name": "stdout",
     "output_type": "stream",
     "text": [
      "This is outer function\n"
     ]
    },
    {
     "ename": "NameError",
     "evalue": "name 'inner' is not defined",
     "output_type": "error",
     "traceback": [
      "\u001b[1;31m---------------------------------------------------------------------------\u001b[0m",
      "\u001b[1;31mNameError\u001b[0m                                 Traceback (most recent call last)",
      "\u001b[1;32m<ipython-input-15-cf0c5cc80cea>\u001b[0m in \u001b[0;36m<module>\u001b[1;34m\u001b[0m\n\u001b[0;32m      5\u001b[0m \u001b[1;33m\u001b[0m\u001b[0m\n\u001b[0;32m      6\u001b[0m \u001b[0mouter\u001b[0m\u001b[1;33m(\u001b[0m\u001b[1;33m)\u001b[0m\u001b[1;33m\u001b[0m\u001b[1;33m\u001b[0m\u001b[0m\n\u001b[1;32m----> 7\u001b[1;33m \u001b[0minner\u001b[0m\u001b[1;33m(\u001b[0m\u001b[1;33m)\u001b[0m\u001b[1;33m\u001b[0m\u001b[1;33m\u001b[0m\u001b[0m\n\u001b[0m",
      "\u001b[1;31mNameError\u001b[0m: name 'inner' is not defined"
     ]
    }
   ],
   "source": [
    "def outer():\n",
    "    print('This is outer function')\n",
    "    def inner():\n",
    "        print('This is Inner function')\n",
    "        \n",
    "outer()\n",
    "inner()"
   ]
  },
  {
   "cell_type": "code",
   "execution_count": 18,
   "metadata": {},
   "outputs": [
    {
     "name": "stdout",
     "output_type": "stream",
     "text": [
      "This is outer function\n",
      "This is Inner function\n"
     ]
    }
   ],
   "source": [
    "def outer():\n",
    "    print('This is outer function')\n",
    "    def inner():\n",
    "        print('This is Inner function')\n",
    "    inner()\n",
    "        \n",
    "outer()"
   ]
  },
  {
   "cell_type": "code",
   "execution_count": 22,
   "metadata": {},
   "outputs": [
    {
     "name": "stdout",
     "output_type": "stream",
     "text": [
      "40\n",
      "20\n"
     ]
    }
   ],
   "source": [
    "def fan1():\n",
    "    a=20\n",
    "    def fan2():\n",
    "        a=40\n",
    "        print(a)\n",
    "    fan2()\n",
    "    print(a)\n",
    "    \n",
    "fan1()"
   ]
  },
  {
   "cell_type": "code",
   "execution_count": 24,
   "metadata": {},
   "outputs": [
    {
     "name": "stdout",
     "output_type": "stream",
     "text": [
      "0\n",
      "1\n",
      "2\n",
      "hello worlds\n"
     ]
    }
   ],
   "source": [
    "for i in range (3):\n",
    "    print(i)\n",
    "else:\n",
    "    print(\"hello worlds\")"
   ]
  },
  {
   "cell_type": "code",
   "execution_count": 25,
   "metadata": {},
   "outputs": [
    {
     "name": "stdout",
     "output_type": "stream",
     "text": [
      "0\n",
      "1\n",
      "2\n"
     ]
    }
   ],
   "source": [
    "for i in range (5):\n",
    "    if i==3 :\n",
    "        break\n",
    "    print(i)\n",
    "else:\n",
    "    print(\"hello worlds\")"
   ]
  },
  {
   "cell_type": "code",
   "execution_count": 6,
   "metadata": {},
   "outputs": [
    {
     "name": "stdout",
     "output_type": "stream",
     "text": [
      "Not a Harshad number 35\n"
     ]
    }
   ],
   "source": [
    "#WAP to check a given number Harshad Number\n",
    "def harshad(num):\n",
    "    n=num\n",
    "    sum=0\n",
    "    while n!=0 :\n",
    "        sum=sum+(n%10)\n",
    "        n=n//10\n",
    "        \n",
    "    if num%sum==0:\n",
    "        print('Harshad number',num)\n",
    "    else :\n",
    "        print('Not a Harshad number',num)\n",
    "harshad(35)"
   ]
  },
  {
   "cell_type": "code",
   "execution_count": 34,
   "metadata": {},
   "outputs": [
    {
     "name": "stdout",
     "output_type": "stream",
     "text": [
      "Harshad number 12\n"
     ]
    }
   ],
   "source": [
    "harshad(12)"
   ]
  },
  {
   "cell_type": "code",
   "execution_count": 1,
   "metadata": {},
   "outputs": [
    {
     "name": "stdout",
     "output_type": "stream",
     "text": [
      "111112\n",
      "111121\n",
      "111211\n",
      "112111\n",
      "121111\n",
      "211111\n"
     ]
    }
   ],
   "source": [
    "#WAP that accept a single digit int number and produces all posible 6 digit number for which the product of their digit is equal to the enter number\n",
    "def number(n):\n",
    "    for i in range(111111,911111) :\n",
    "        temp=1\n",
    "        p=1\n",
    "        j=i\n",
    "        while j!=0:\n",
    "            p*=j%10\n",
    "            j//=10\n",
    "            \n",
    "        if(p==n):\n",
    "            print(i)\n",
    "            \n",
    "number(2)"
   ]
  },
  {
   "cell_type": "code",
   "execution_count": 18,
   "metadata": {},
   "outputs": [
    {
     "name": "stdout",
     "output_type": "stream",
     "text": [
      "Enter Year ~> 2025\n",
      "Enter Month ~> 12\n",
      "Enter Day ~> 1\n",
      "2 - 12 - 2026\n"
     ]
    }
   ],
   "source": [
    "#WAP to get next day of a given date\n",
    "year=int(input('Enter Year ~> '))\n",
    "month=int(input('Enter Month ~> '))\n",
    "day=int(input('Enter Day ~> '))\n",
    "\n",
    "if (year%4==0 and year%100!=0) or (year%400==0):\n",
    "    leap=True\n",
    "else:\n",
    "    leap=False\n",
    "    \n",
    "if month in (1,3,5,7,8,10,12) :\n",
    "    monthlength=31\n",
    "elif month==2:\n",
    "    if leap :\n",
    "        monthlength=29\n",
    "    else :\n",
    "        monthlength=28\n",
    "else:\n",
    "    monthlength=30\n",
    "    \n",
    "if monthlength>day:\n",
    "    day+=1\n",
    "else:\n",
    "    day=1\n",
    "    month+=1\n",
    "    \n",
    "    if month==12 and day==31:\n",
    "        month=1\n",
    "        year+=1\n",
    " \n",
    "    \n",
    "print(day,\"-\",month,\"-\",year+1)\n",
    "    "
   ]
  },
  {
   "cell_type": "code",
   "execution_count": 10,
   "metadata": {},
   "outputs": [
    {
     "data": {
      "text/plain": [
       "(2025, 12, 1)"
      ]
     },
     "execution_count": 10,
     "metadata": {},
     "output_type": "execute_result"
    }
   ],
   "source": [
    "#Ai generated\n",
    "def get_next_day(year, month, day):\n",
    "    days_in_month = [0, 31, 28, 31, 30, 31, 30, 31, 31, 30, 31, 30, 31]\n",
    "    if (year % 4 == 0 and year % 100 != 0) or (year % 400 == 0):\n",
    "        days_in_month[2] = 29\n",
    "\n",
    "    next_day = day + 1\n",
    "    next_month = month\n",
    "    next_year = year\n",
    "\n",
    "    # Check if day rolls over to the next month\n",
    "    if next_day > days_in_month[month]:\n",
    "        next_day = 1\n",
    "        next_month = month + 1\n",
    "\n",
    "        # Check if month rolls over to the next year\n",
    "        if next_month > 12:\n",
    "            next_month = 1\n",
    "            next_year = year + 1\n",
    "\n",
    "    return next_year, next_month, next_day\n",
    "\n",
    "get_next_day(year=2025, month=11, day=45)"
   ]
  },
  {
   "cell_type": "code",
   "execution_count": 30,
   "metadata": {},
   "outputs": [
    {
     "name": "stdout",
     "output_type": "stream",
     "text": [
      "Enter Number ~> 15\n",
      "1\n",
      "1\n",
      "1\n",
      "1\n",
      "4\n",
      "7\n",
      "13\n",
      "25\n",
      "49\n",
      "94\n",
      "181\n",
      "349\n",
      "673\n",
      "1297\n",
      "2500\n",
      "Ans : 2500\n"
     ]
    }
   ],
   "source": [
    "#WAP to create sequence where the four members of the sequence are equal to 1 and each succesive term of the sequence is equal to the sum of the 4 previous one find the n th member of the sequence\n",
    "n=int(input('Enter Number ~> '))\n",
    "a=1\n",
    "b=1\n",
    "c=1\n",
    "d=1\n",
    "print(a)\n",
    "print(a)\n",
    "print(a)\n",
    "print(a)\n",
    "for i in range(4,n):\n",
    "    e=a+b+c+d\n",
    "    print(e)\n",
    "    a=b\n",
    "    b=c\n",
    "    c=d\n",
    "    d=e\n",
    "print(\"Ans :\",e)"
   ]
  }
 ],
 "metadata": {
  "kernelspec": {
   "display_name": "Python 3",
   "language": "python",
   "name": "python3"
  },
  "language_info": {
   "codemirror_mode": {
    "name": "ipython",
    "version": 3
   },
   "file_extension": ".py",
   "mimetype": "text/x-python",
   "name": "python",
   "nbconvert_exporter": "python",
   "pygments_lexer": "ipython3",
   "version": "3.8.5"
  }
 },
 "nbformat": 4,
 "nbformat_minor": 4
}
